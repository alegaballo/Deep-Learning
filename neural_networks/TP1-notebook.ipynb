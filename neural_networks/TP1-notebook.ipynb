{
 "cells": [
  {
   "cell_type": "markdown",
   "metadata": {
    "collapsed": true,
    "deletable": true,
    "editable": true
   },
   "source": [
    "<h1 style=\"text-align:center\">Deep Learning  Lab Session </h1>\n",
    "<h1 style=\"text-align:center\">First Lab Session - 3 Hours </h1>\n",
    "<h1 style=\"text-align:center\">Artificial Neural Networks for Handwritten Digits Recognition</h1>"
   ]
  },
  {
   "cell_type": "markdown",
   "metadata": {
    "deletable": true,
    "editable": true
   },
   "source": [
    "<b> Student 1:</b> Alessandro Gaballo \n",
    "<b> Student 2:</b> Jonas Wacker\n",
    " \n",
    " \n",
    "The aim of this session is to practice with Artificial Neural Networks. Answers and experiments should be made by groups of one or two students. Each group should fill and run appropriate notebook cells. \n",
    "\n",
    "To generate your final report, use print as PDF (Ctrl+P). Do not forget to run all your cells before generating your final report and do not forget to include the names of all participants in the group. The lab session should be completed by April 7th 2017. "
   ]
  },
  {
   "cell_type": "markdown",
   "metadata": {
    "deletable": true,
    "editable": true
   },
   "source": [
    "# Introduction"
   ]
  },
  {
   "cell_type": "markdown",
   "metadata": {
    "deletable": true,
    "editable": true
   },
   "source": [
    "\n",
    "In this session, your will implement, train and test a Neural Network\n",
    "for the Handwritten Digits Recognition problem <a href=\"http://yann.lecun.com/exdb/mnist/\"> [1] </a> with  different settings of hyper parameters. You will use the MNIST dataset which was constructed from a number of scanned document dataset available from the National Institute of Standards and Technology (NIST). Images of digits were taken from a variety of scanned documents, normalized in size and centered. \n",
    "\n",
    "\n",
    "<img src=\"Nimages/mnist.png\",width=\"350\" height=\"500\" align=\"center\">\n",
    "<center><span>Figure 1: MNIST digits examples</span></center>\n",
    "\n",
    "\n",
    "This assignment includes a written part of programms to help you understand how to build and train\n",
    "your neural net and then to test your code and get restults. \n",
    "\n",
    "1. <a href=\"NeuralNetwork.py\"> NeuralNetwork.py </a> \n",
    "2. <a href=\"transfer_functions.py\"> transfer_functions.py </a> \n",
    "3.  <a href=\"utils.py \"> utils.py </a> \n",
    "\n",
    "\n",
    "Functions defined inside the python files mentionned above can be imported  using the python command : \n",
    "from filename import *\n",
    "\n",
    "You will use the following libraries:\n",
    "\n",
    "1. <a href=\"http://cs231n.github.io/python-numpy-tutorial/\"> numpy </a>: for creating arrays and using methods to manipulate arrays.\n",
    "\n",
    "2. <a href=\"http://matplotlib.org/\"> matplotlib  </a>: for making plots\n",
    " \n",
    "\n",
    "\n",
    "\n",
    "\n",
    "\n",
    "\n"
   ]
  },
  {
   "cell_type": "markdown",
   "metadata": {
    "deletable": true,
    "editable": true
   },
   "source": [
    "# Section 1 :  My First Neural Network\n",
    "## DO NOT RUN AGAIN, THE OUTPUT IS THERE AND IT'S FINE\n",
    "\n",
    "<b>Part 1</b>: Before designing and writing your code, you will first work on a neural network by hand. \n",
    "Consider the above Neural network with two inputs $X=(x1,x2)$, one hidden layers and a single output unit $(y)$.\n",
    "The initial weights are set to random values. Neurons 6 and 7 represent the bias. Bias values are equal to 1.  \n",
    "Training sample, X = (0.8, 0.2), whose class label is Y=0.4.\n",
    "\n",
    "Assume that the neurons have a Sigmoid activation function  $f(x)=\\frac{1}{(1+e^{-x})}$ and the learning rate $\\mu$=1\n",
    "\n",
    "\n",
    "<img src=\"Nimages/NN.png\", width=\"700\" height=\"900\"> \n",
    "<center><span>Figure 2: Neural network </span></center>\n",
    "\n",
    "\n",
    "<b>Question 1.1.1</b>: Compute the new values of weights $w_{i,j}$ after a forward pass and a backward pass.\n",
    "$w_{i,j}$ is the weight of the connexion between neuron $i$ and neuron $j$."
   ]
  },
  {
   "cell_type": "markdown",
   "metadata": {
    "collapsed": true,
    "deletable": true,
    "editable": true
   },
   "source": [
    "#Your answer goes here :\n",
    "\n",
    "$w_{1,3}=  0.3043 $ \n",
    "\n",
    "$w_{1,4}=  -0.5027 $\n",
    "\n",
    "$w_{2,3}= 0.8011 $\n",
    "\n",
    "$w_{2,4}= 0.1993 $\n",
    "\n",
    "$w_{6,3}= 0.2054 $\n",
    "\n",
    "$w_{6,4}= -0.4034 $\n",
    "\n",
    "$w_{3,5}= 0.6254 $\n",
    "\n",
    "$w_{4,5}= 0.3875 $\n",
    "\n",
    "$w_{7,5}= 0.4606 $\n",
    "\n",
    "\n"
   ]
  },
  {
   "cell_type": "markdown",
   "metadata": {
    "deletable": true,
    "editable": true
   },
   "source": [
    "<b>Part 2</b>: Neural Network Implementation\n",
    "\n",
    "Please read all source files carefully and understand the data structures and all functions.\n",
    "You are to complete the missing code. \n",
    "First you should define the neural network (using the NeuralNetwork class, see in the <a href=\"NeuralNetwork.py\"> NeuralNetwork.py </a> file) and reinitialise weights. \n",
    "Then you will to complete the Feed Forward and the Back-propagation functions. \n",
    "\n",
    "<b>Question 1.2.1</b>: Define the neural network corresponding to the one in part 1"
   ]
  },
  {
   "cell_type": "code",
   "execution_count": 9,
   "metadata": {
    "collapsed": false,
    "deletable": true,
    "editable": true
   },
   "outputs": [],
   "source": [
    "from NeuralNetwork import *\n",
    "import numpy as np\n",
    "#create the network\n",
    "my_first_net = NeuralNetwork(2, 2, 1, learning_rate=1)\n"
   ]
  },
  {
   "cell_type": "code",
   "execution_count": 12,
   "metadata": {
    "collapsed": false,
    "deletable": true,
    "editable": true
   },
   "outputs": [
    {
     "name": "stdout",
     "output_type": "stream",
     "text": [
      "[[ 0.3 -0.5]\n",
      " [ 0.8  0.2]\n",
      " [ 0.2 -0.4]]\n",
      "[[-0.6]\n",
      " [ 0.4]\n",
      " [ 0.5]]\n"
     ]
    }
   ],
   "source": [
    "#Data preparation \n",
    "X=[0.8,0.2]\n",
    "Y=[0.4]\n",
    "data=[]\n",
    "data.append(X)\n",
    "data.append(Y)\n",
    "\n",
    "#initialize weights\n",
    "wi=np.array([[0.3,-0.5],[0.8,0.2],[0.2,-0.4]])\n",
    "wo=np.array([[-0.6],[0.4],[0.5]])\n",
    "my_first_net.weights_initialisation(wi,wo)\n",
    "print(my_first_net.W_input_to_hidden)\n",
    "print(my_first_net.W_hidden_to_output)\n",
    "\n",
    "\n",
    "\n",
    "\n"
   ]
  },
  {
   "cell_type": "markdown",
   "metadata": {
    "deletable": true,
    "editable": true
   },
   "source": [
    "<b>Question 1.2.2</b>: Implement the Feed Forward function (feedForward(X) in the NeuralNetwork.py file)\n",
    "\n"
   ]
  },
  {
   "cell_type": "code",
   "execution_count": 3,
   "metadata": {
    "collapsed": true,
    "deletable": true,
    "editable": true
   },
   "outputs": [],
   "source": [
    "# Implement it in the NeuralNetwork.py file and when finalised copy and paste your FeedForward function here\n",
    "def transfer_function(self, x):\n",
    "    return 1.0 / (1.0 + np.exp(-x))\n",
    "    \n",
    "def feedForward(self, inputs):\n",
    "    self.a_input = np.append(inputs, 1)\n",
    "    a_hidden_without_bias = np.dot(self.a_input, self.W_input_to_hidden)\n",
    "    self.a_hidden = np.append(a_hidden_without_bias, 0)\n",
    "    self.o_hidden = self.transfer_function(self.a_hidden)\n",
    "    self.o_hidden[-1] = 1\n",
    "    self.a_output = np.dot(self.o_hidden, self.W_hidden_to_output)\n",
    "    self.o_output = self.transfer_function(self.a_output)\n",
    "    return self.o_output\n"
   ]
  },
  {
   "cell_type": "markdown",
   "metadata": {
    "deletable": true,
    "editable": true
   },
   "source": [
    "Check your network outputs the expected value (the one you computed in question 1.1)"
   ]
  },
  {
   "cell_type": "code",
   "execution_count": 13,
   "metadata": {
    "collapsed": false,
    "deletable": true,
    "editable": true
   },
   "outputs": [
    {
     "name": "stdout",
     "output_type": "stream",
     "text": [
      "output activation =0.560\n"
     ]
    }
   ],
   "source": [
    "#test my  Feed Forward function \n",
    "Output_activation=my_first_net.feedForward(X)\n",
    "print(\"output activation =%.3f\" %(Output_activation))\n"
   ]
  },
  {
   "cell_type": "markdown",
   "metadata": {
    "deletable": true,
    "editable": true
   },
   "source": [
    "<b>Question 1.2.3</b>: Implement the Back-propagation Algorithm (backPropagate(Y) in the NeuralNetwork.py file)  \n"
   ]
  },
  {
   "cell_type": "code",
   "execution_count": 5,
   "metadata": {
    "collapsed": false,
    "deletable": true,
    "editable": true
   },
   "outputs": [],
   "source": [
    "# Implement it in the NeuralNetwork.py file and when finalised copy and paste your BackPropagate function here\n",
    "def backPropagate(self, targets):\n",
    "        \n",
    "    # calculate error terms for output\n",
    "    self.errors = self.o_output - targets\n",
    "    delta_e_u_output = self.errors * self.o_output * (1 - self.o_output)\n",
    "    delta_e_u_horizontal = np.matrix(delta_e_u_output)\n",
    "    o_hidden_vertical = np.matrix(self.o_hidden).T\n",
    "        \n",
    "    delta_e_w_output = np.dot(o_hidden_vertical, delta_e_u_horizontal)\n",
    "\n",
    "    # calculate error terms for hidden\n",
    "    delta_e_u_hidden = np.dot(self.W_hidden_to_output, delta_e_u_output) * self.o_hidden * (1 - self.o_hidden)\n",
    "    delta_e_u_horizontal = np.matrix(delta_e_u_hidden)\n",
    "    o_input_vertical = np.matrix(self.a_input).T\n",
    "    delta_e_w_hidden = np.dot(o_input_vertical, delta_e_u_horizontal)\n",
    "    # delete last column\n",
    "    # delta_e_w_hidden = delta_e_w_hidden[:,0:delta_e_w_hidden.shape[1]-1]\n",
    "    delta_e_w_hidden = np.delete(delta_e_w_hidden, -1, 1)\n",
    "    # update output weights\n",
    "    self.W_hidden_to_output -= self.learning_rate * delta_e_w_output\n",
    "    # update input weights\n",
    "    self.W_input_to_hidden -= self.learning_rate * delta_e_w_hidden\n",
    "        \n",
    "    return np.square(self.errors).sum()/2\n"
   ]
  },
  {
   "cell_type": "markdown",
   "metadata": {
    "deletable": true,
    "editable": true
   },
   "source": [
    "Check the gradient values and weight updates are correct (similar to the ones you computed in question 1.1)"
   ]
  },
  {
   "cell_type": "code",
   "execution_count": 14,
   "metadata": {
    "collapsed": false,
    "deletable": true,
    "editable": true
   },
   "outputs": [
    {
     "name": "stdout",
     "output_type": "stream",
     "text": [
      "New input weights\n",
      " [[ 0.30432265 -0.50273473]\n",
      " [ 0.80108066  0.19931632]\n",
      " [ 0.20540332 -0.40341841]]\n",
      "New output weights\n",
      " [[-0.62541468]\n",
      " [ 0.38745727]\n",
      " [ 0.46063746]]\n"
     ]
    }
   ],
   "source": [
    "#test my  Back-propagation function\n",
    "my_first_net.backPropagate(Y)\n",
    "#Print weights after backpropagation\n",
    "print('New input weights\\n', my_first_net.W_input_to_hidden)\n",
    "print('New output weights\\n', my_first_net.W_hidden_to_output)\n",
    "\n",
    "\n",
    "\n",
    "\n",
    "\n"
   ]
  },
  {
   "cell_type": "markdown",
   "metadata": {
    "deletable": true,
    "editable": true
   },
   "source": [
    "Your Feed Forward and Back-Propagation implementations are working, Great!! Let's tackle a real world problem."
   ]
  },
  {
   "cell_type": "markdown",
   "metadata": {
    "collapsed": true,
    "deletable": true,
    "editable": true
   },
   "source": [
    "# Section 2 : The MNIST Challenge! "
   ]
  },
  {
   "cell_type": "markdown",
   "metadata": {
    "deletable": true,
    "editable": true
   },
   "source": [
    "<b>Data Preparation</b>\n",
    "\n",
    "The MNIST dataset consists of handwritten digit images it contains 60,000 examples for the training set and 10,000 examples for testing. In this Lab Session, the official training set of 60,000 is divided into an actual training set of 50,000 examples, 10,000 validation examples and 10,000 examples for test. All digit images have been size-normalized and centered in a fixed size image of 28 x 28 pixels. The images are stored in byte form you will use the NumPy python library to read the data files into NumPy arrays that we will use to train the ANN.\n",
    "\n",
    "The MNIST dataset is available in the Data folder.\n",
    "To get the training, testing and validation data, run the the load_data() function.\n"
   ]
  },
  {
   "cell_type": "code",
   "execution_count": 1,
   "metadata": {
    "collapsed": false,
    "deletable": true,
    "editable": true
   },
   "outputs": [
    {
     "name": "stdout",
     "output_type": "stream",
     "text": [
      "Loading MNIST data .....\n",
      "Done.\n"
     ]
    }
   ],
   "source": [
    "from utils import *\n",
    "training_data, validation_data, test_data=load_data()"
   ]
  },
  {
   "cell_type": "markdown",
   "metadata": {
    "deletable": true,
    "editable": true
   },
   "source": [
    "<b>MNIST Dataset Digits Visualisation</b>"
   ]
  },
  {
   "cell_type": "code",
   "execution_count": 2,
   "metadata": {
    "collapsed": false,
    "deletable": true,
    "editable": true
   },
   "outputs": [
    {
     "data": {
      "image/png": "[encoded data removed]",
      "text/plain": [
       "<matplotlib.figure.Figure at 0x7fe11e301a90>"
      ]
     },
     "metadata": {},
     "output_type": "display_data"
    }
   ],
   "source": [
    "ROW = 2\n",
    "COLUMN = 4\n",
    "for i in range(ROW * COLUMN):\n",
    "    # train[i][0] is i-th image data with size 28x28\n",
    "    image = training_data[i][0].reshape(28, 28)\n",
    "    plt.subplot(ROW, COLUMN, i+1)          \n",
    "    plt.imshow(image, cmap='gray')  # cmap='gray' is for black and white picture.\n",
    "plt.axis('off')  # do not show axis value\n",
    "plt.tight_layout()   # automatic padding between subplots\n",
    "plt.show()\n",
    "\n"
   ]
  },
  {
   "cell_type": "markdown",
   "metadata": {
    "deletable": true,
    "editable": true
   },
   "source": [
    "<b>Part 1</b>: Creating the Neural Networks\n",
    "\n",
    "The input layer of the neural network contains neurons encoding the values of the input pixels. The training data for the network will consist of many 28 by 28 pixel images of scanned handwritten digits, and so the input layer contains 784=28×28 neurons. The second layer of the network is a hidden layer, we set the neuron number in the hidden layer to 30. The output layer contains 10 neurons. \n",
    "\n",
    "<b>Question 2.1.1</b>: Create the network described above using the NeuralNetwork class"
   ]
  },
  {
   "cell_type": "code",
   "execution_count": 3,
   "metadata": {
    "collapsed": false,
    "deletable": true,
    "editable": true
   },
   "outputs": [],
   "source": [
    "#create the network\n",
    "from NeuralNetwork import NeuralNetwork \n",
    "\n",
    "input_nodes = 784\n",
    "hidden_nodes = 30\n",
    "output_nodes = 10\n",
    "\n",
    "my_mnist_net = NeuralNetwork(input_nodes, hidden_nodes, output_nodes)\n",
    "\n"
   ]
  },
  {
   "cell_type": "markdown",
   "metadata": {
    "deletable": true,
    "editable": true
   },
   "source": [
    "<b>Question 2.1.2</b>: Add the information about the performance of the neural network on the test set at each epoch"
   ]
  },
  {
   "cell_type": "code",
   "execution_count": 6,
   "metadata": {
    "collapsed": false,
    "deletable": true,
    "editable": true
   },
   "outputs": [],
   "source": [
    "test_accuracy=my_mnist_net.predict(test_data) / 100"
   ]
  },
  {
   "cell_type": "code",
   "execution_count": 7,
   "metadata": {
    "collapsed": false
   },
   "outputs": [
    {
     "name": "stdout",
     "output_type": "stream",
     "text": [
      "Test_Accuracy [epoch = 0]  10.09\n"
     ]
    }
   ],
   "source": [
    "print('Test_Accuracy [epoch = 0]  %-2.2f' % test_accuracy)"
   ]
  },
  {
   "cell_type": "markdown",
   "metadata": {
    "deletable": true,
    "editable": true
   },
   "source": [
    "<b>Question 2.1.3</b>: Train the Neural Network and comment your findings"
   ]
  },
  {
   "cell_type": "code",
   "execution_count": 8,
   "metadata": {
    "collapsed": false,
    "deletable": true,
    "editable": true,
    "scrolled": true
   },
   "outputs": [
    {
     "name": "stdout",
     "output_type": "stream",
     "text": [
      "Iteration:  1/50[==============] -Error: 0.1123316059  -Training_Accuracy:  92.67  -time: 42.63 \n",
      "Validation accuracy 92.7\n",
      "Iteration:  2/50[==============] -Error: 0.0560563344  -Training_Accuracy:  94.32  -time: 131.09 \n",
      "Validation accuracy 93.65\n",
      "Iteration:  3/50[==============] -Error: 0.0468937200  -Training_Accuracy:  95.34  -time: 217.78 \n",
      "Validation accuracy 94.5\n",
      "Iteration:  4/50[==============] -Error: 0.0417135517  -Training_Accuracy:  95.72  -time: 302.73 \n",
      "Validation accuracy 94.96\n",
      "Iteration:  5/50[==============] -Error: 0.0384278051  -Training_Accuracy:  96.22  -time: 409.63 \n",
      "Validation accuracy 95.17\n",
      "Iteration:  6/50[==============] -Error: 0.0357778918  -Training_Accuracy:  96.41  -time: 514.31 \n",
      "Validation accuracy 95.21\n",
      "Iteration:  7/50[==============] -Error: 0.0340840941  -Training_Accuracy:  96.35  -time: 568.56 \n",
      "Validation accuracy 95.03\n",
      "Iteration:  8/50[==============] -Error: 0.0322334574  -Training_Accuracy:  96.77  -time: 646.06 \n",
      "Validation accuracy 95.57\n",
      "Iteration:  9/50[==============] -Error: 0.0311007917  -Training_Accuracy:  96.83  -time: 709.60 \n",
      "Validation accuracy 95.64\n",
      "Iteration: 10/50[==============] -Error: 0.0299295064  -Training_Accuracy:  97.07  -time: 764.39 \n",
      "Validation accuracy 95.72\n",
      "Iteration: 11/50[==============] -Error: 0.0287945642  -Training_Accuracy:  97.10  -time: 869.94 \n",
      "Validation accuracy 95.69\n",
      "Iteration: 12/50[==============] -Error: 0.0279465594  -Training_Accuracy:  97.15  -time: 985.28 \n",
      "Validation accuracy 95.69\n",
      "Iteration: 13/50[==============] -Error: 0.0270195310  -Training_Accuracy:  97.17  -time: 1081.39 \n",
      "Validation accuracy 95.66\n",
      "Iteration: 14/50[==============] -Error: 0.0263753463  -Training_Accuracy:  97.33  -time: 1147.75 \n",
      "Validation accuracy 95.89999999999999\n",
      "Iteration: 15/50[==============] -Error: 0.0255188896  -Training_Accuracy:  97.50  -time: 1256.36 \n",
      "Validation accuracy 96.09\n",
      "Iteration: 16/50[==============] -Error: 0.0248074819  -Training_Accuracy:  97.48  -time: 1381.43 \n",
      "Validation accuracy 95.88\n",
      "Iteration: 17/50[==============] -Error: 0.0242756412  -Training_Accuracy:  97.55  -time: 1517.51 \n",
      "Validation accuracy 95.78\n",
      "Iteration: 18/50[==============] -Error: 0.0237267106  -Training_Accuracy:  97.65  -time: 1656.90 \n",
      "Validation accuracy 95.91\n",
      "Iteration: 19/50[==============] -Error: 0.0232591624  -Training_Accuracy:  97.67  -time: 1806.32 \n",
      "Validation accuracy 95.99\n",
      "Iteration: 20/50[==============] -Error: 0.0227244074  -Training_Accuracy:  97.77  -time: 1907.30 \n",
      "Validation accuracy 95.98\n",
      "Iteration: 21/50[==============] -Error: 0.0223126635  -Training_Accuracy:  97.80  -time: 1999.10 \n",
      "Validation accuracy 96.02000000000001\n",
      "Iteration: 22/50[==============] -Error: 0.0214598691  -Training_Accuracy:  97.81  -time: 2148.18 \n",
      "Validation accuracy 95.93\n",
      "Iteration: 23/50[==============] -Error: 0.0213472628  -Training_Accuracy:  97.94  -time: 2237.59 \n",
      "Validation accuracy 96.00999999999999\n",
      "Iteration: 24/50[==============] -Error: 0.0208509002  -Training_Accuracy:  97.88  -time: 2336.72 \n",
      "Validation accuracy 96.00999999999999\n",
      "Iteration: 25/50[==============] -Error: 0.0204703033  -Training_Accuracy:  98.01  -time: 2470.56 \n",
      "Validation accuracy 96.00999999999999\n",
      "Iteration: 26/50[==============] -Error: 0.0201351799  -Training_Accuracy:  98.07  -time: 2584.35 \n",
      "Validation accuracy 95.94\n"
     ]
    },
    {
     "ename": "KeyboardInterrupt",
     "evalue": "",
     "output_type": "error",
     "traceback": [
      "\u001b[0;31m---------------------------------------------------------------------------\u001b[0m",
      "\u001b[0;31mAttributeError\u001b[0m                            Traceback (most recent call last)",
      "\u001b[0;32m/usr/local/lib/python3.5/dist-packages/numpy/core/fromnumeric.py\u001b[0m in \u001b[0;36m_wrapfunc\u001b[0;34m(obj, method, *args, **kwds)\u001b[0m\n\u001b[1;32m     56\u001b[0m     \u001b[0;32mtry\u001b[0m\u001b[0;34m:\u001b[0m\u001b[0;34m\u001b[0m\u001b[0m\n\u001b[0;32m---> 57\u001b[0;31m         \u001b[0;32mreturn\u001b[0m \u001b[0mgetattr\u001b[0m\u001b[0;34m(\u001b[0m\u001b[0mobj\u001b[0m\u001b[0;34m,\u001b[0m \u001b[0mmethod\u001b[0m\u001b[0;34m)\u001b[0m\u001b[0;34m(\u001b[0m\u001b[0;34m*\u001b[0m\u001b[0margs\u001b[0m\u001b[0;34m,\u001b[0m \u001b[0;34m**\u001b[0m\u001b[0mkwds\u001b[0m\u001b[0;34m)\u001b[0m\u001b[0;34m\u001b[0m\u001b[0m\n\u001b[0m\u001b[1;32m     58\u001b[0m \u001b[0;34m\u001b[0m\u001b[0m\n",
      "\u001b[0;31mAttributeError\u001b[0m: 'list' object has no attribute 'argmax'",
      "\nDuring handling of the above exception, another exception occurred:\n",
      "\u001b[0;31mKeyboardInterrupt\u001b[0m                         Traceback (most recent call last)",
      "\u001b[0;32m<ipython-input-8-64aa82f82f25>\u001b[0m in \u001b[0;36m<module>\u001b[0;34m()\u001b[0m\n\u001b[1;32m      1\u001b[0m \u001b[0;31m#train your network\u001b[0m\u001b[0;34m\u001b[0m\u001b[0;34m\u001b[0m\u001b[0m\n\u001b[0;32m----> 2\u001b[0;31m \u001b[0mmy_mnist_net\u001b[0m\u001b[0;34m.\u001b[0m\u001b[0mtrain\u001b[0m\u001b[0;34m(\u001b[0m\u001b[0mtraining_data\u001b[0m\u001b[0;34m,\u001b[0m\u001b[0mvalidation_data\u001b[0m\u001b[0;34m)\u001b[0m\u001b[0;34m\u001b[0m\u001b[0m\n\u001b[0m\u001b[1;32m      3\u001b[0m \u001b[0;31m#save your model in Models/ using a distinguishing name for your model (architecture, learning rate, etc...)\u001b[0m\u001b[0;34m\u001b[0m\u001b[0;34m\u001b[0m\u001b[0m\n",
      "\u001b[0;32m/media/data/Documenti/Eurecom/Spring/deepLearning/labs/Deep-Learning/neural_networks/NeuralNetwork.py\u001b[0m in \u001b[0;36mtrain\u001b[0;34m(self, data, validation_data)\u001b[0m\n\u001b[1;32m    124\u001b[0m                 \u001b[0mself\u001b[0m\u001b[0;34m.\u001b[0m\u001b[0mfeedForward\u001b[0m\u001b[0;34m(\u001b[0m\u001b[0mInput\u001b[0m\u001b[0;34m)\u001b[0m\u001b[0;34m\u001b[0m\u001b[0m\n\u001b[1;32m    125\u001b[0m                 \u001b[0merror\u001b[0m\u001b[0;34m+=\u001b[0m\u001b[0mself\u001b[0m\u001b[0;34m.\u001b[0m\u001b[0mbackPropagate\u001b[0m\u001b[0;34m(\u001b[0m\u001b[0mTarget\u001b[0m\u001b[0;34m)\u001b[0m\u001b[0;34m\u001b[0m\u001b[0m\n\u001b[0;32m--> 126\u001b[0;31m             \u001b[0mTraining_accuracies\u001b[0m\u001b[0;34m.\u001b[0m\u001b[0mappend\u001b[0m\u001b[0;34m(\u001b[0m\u001b[0mself\u001b[0m\u001b[0;34m.\u001b[0m\u001b[0mpredict\u001b[0m\u001b[0;34m(\u001b[0m\u001b[0mdata\u001b[0m\u001b[0;34m)\u001b[0m\u001b[0;34m)\u001b[0m\u001b[0;34m\u001b[0m\u001b[0m\n\u001b[0m\u001b[1;32m    127\u001b[0m             \u001b[0mVal_accuracies\u001b[0m\u001b[0;34m.\u001b[0m\u001b[0mappend\u001b[0m\u001b[0;34m(\u001b[0m\u001b[0mself\u001b[0m\u001b[0;34m.\u001b[0m\u001b[0mpredict\u001b[0m\u001b[0;34m(\u001b[0m\u001b[0mvalidation_data\u001b[0m\u001b[0;34m)\u001b[0m\u001b[0;34m)\u001b[0m\u001b[0;34m\u001b[0m\u001b[0m\n\u001b[1;32m    128\u001b[0m \u001b[0;34m\u001b[0m\u001b[0m\n",
      "\u001b[0;32m/media/data/Documenti/Eurecom/Spring/deepLearning/labs/Deep-Learning/neural_networks/NeuralNetwork.py\u001b[0m in \u001b[0;36mpredict\u001b[0;34m(self, test_data)\u001b[0m\n\u001b[1;32m    146\u001b[0m         \u001b[0mcount\u001b[0m \u001b[0;34m=\u001b[0m \u001b[0;36m0.0\u001b[0m\u001b[0;34m\u001b[0m\u001b[0m\n\u001b[1;32m    147\u001b[0m         \u001b[0;32mfor\u001b[0m \u001b[0mtestcase\u001b[0m \u001b[0;32min\u001b[0m \u001b[0mtest_data\u001b[0m\u001b[0;34m:\u001b[0m\u001b[0;34m\u001b[0m\u001b[0m\n\u001b[0;32m--> 148\u001b[0;31m             \u001b[0manswer\u001b[0m \u001b[0;34m=\u001b[0m \u001b[0mnp\u001b[0m\u001b[0;34m.\u001b[0m\u001b[0margmax\u001b[0m\u001b[0;34m(\u001b[0m \u001b[0mtestcase\u001b[0m\u001b[0;34m[\u001b[0m\u001b[0;36m1\u001b[0m\u001b[0;34m]\u001b[0m \u001b[0;34m)\u001b[0m\u001b[0;34m\u001b[0m\u001b[0m\n\u001b[0m\u001b[1;32m    149\u001b[0m             \u001b[0mprediction\u001b[0m \u001b[0;34m=\u001b[0m \u001b[0mnp\u001b[0m\u001b[0;34m.\u001b[0m\u001b[0margmax\u001b[0m\u001b[0;34m(\u001b[0m \u001b[0mself\u001b[0m\u001b[0;34m.\u001b[0m\u001b[0mfeedForward\u001b[0m\u001b[0;34m(\u001b[0m \u001b[0mtestcase\u001b[0m\u001b[0;34m[\u001b[0m\u001b[0;36m0\u001b[0m\u001b[0;34m]\u001b[0m \u001b[0;34m)\u001b[0m \u001b[0;34m)\u001b[0m\u001b[0;34m\u001b[0m\u001b[0m\n\u001b[1;32m    150\u001b[0m             \u001b[0mcount\u001b[0m \u001b[0;34m=\u001b[0m \u001b[0mcount\u001b[0m \u001b[0;34m+\u001b[0m \u001b[0;36m1\u001b[0m \u001b[0;32mif\u001b[0m \u001b[0;34m(\u001b[0m\u001b[0manswer\u001b[0m \u001b[0;34m-\u001b[0m \u001b[0mprediction\u001b[0m\u001b[0;34m)\u001b[0m \u001b[0;34m==\u001b[0m \u001b[0;36m0\u001b[0m \u001b[0;32melse\u001b[0m \u001b[0mcount\u001b[0m\u001b[0;34m\u001b[0m\u001b[0m\n",
      "\u001b[0;32m/usr/local/lib/python3.5/dist-packages/numpy/core/fromnumeric.py\u001b[0m in \u001b[0;36margmax\u001b[0;34m(a, axis, out)\u001b[0m\n\u001b[1;32m    961\u001b[0m \u001b[0;34m\u001b[0m\u001b[0m\n\u001b[1;32m    962\u001b[0m     \"\"\"\n\u001b[0;32m--> 963\u001b[0;31m     \u001b[0;32mreturn\u001b[0m \u001b[0m_wrapfunc\u001b[0m\u001b[0;34m(\u001b[0m\u001b[0ma\u001b[0m\u001b[0;34m,\u001b[0m \u001b[0;34m'argmax'\u001b[0m\u001b[0;34m,\u001b[0m \u001b[0maxis\u001b[0m\u001b[0;34m=\u001b[0m\u001b[0maxis\u001b[0m\u001b[0;34m,\u001b[0m \u001b[0mout\u001b[0m\u001b[0;34m=\u001b[0m\u001b[0mout\u001b[0m\u001b[0;34m)\u001b[0m\u001b[0;34m\u001b[0m\u001b[0m\n\u001b[0m\u001b[1;32m    964\u001b[0m \u001b[0;34m\u001b[0m\u001b[0m\n\u001b[1;32m    965\u001b[0m \u001b[0;34m\u001b[0m\u001b[0m\n",
      "\u001b[0;32m/usr/local/lib/python3.5/dist-packages/numpy/core/fromnumeric.py\u001b[0m in \u001b[0;36m_wrapfunc\u001b[0;34m(obj, method, *args, **kwds)\u001b[0m\n\u001b[1;32m     55\u001b[0m \u001b[0;32mdef\u001b[0m \u001b[0m_wrapfunc\u001b[0m\u001b[0;34m(\u001b[0m\u001b[0mobj\u001b[0m\u001b[0;34m,\u001b[0m \u001b[0mmethod\u001b[0m\u001b[0;34m,\u001b[0m \u001b[0;34m*\u001b[0m\u001b[0margs\u001b[0m\u001b[0;34m,\u001b[0m \u001b[0;34m**\u001b[0m\u001b[0mkwds\u001b[0m\u001b[0;34m)\u001b[0m\u001b[0;34m:\u001b[0m\u001b[0;34m\u001b[0m\u001b[0m\n\u001b[1;32m     56\u001b[0m     \u001b[0;32mtry\u001b[0m\u001b[0;34m:\u001b[0m\u001b[0;34m\u001b[0m\u001b[0m\n\u001b[0;32m---> 57\u001b[0;31m         \u001b[0;32mreturn\u001b[0m \u001b[0mgetattr\u001b[0m\u001b[0;34m(\u001b[0m\u001b[0mobj\u001b[0m\u001b[0;34m,\u001b[0m \u001b[0mmethod\u001b[0m\u001b[0;34m)\u001b[0m\u001b[0;34m(\u001b[0m\u001b[0;34m*\u001b[0m\u001b[0margs\u001b[0m\u001b[0;34m,\u001b[0m \u001b[0;34m**\u001b[0m\u001b[0mkwds\u001b[0m\u001b[0;34m)\u001b[0m\u001b[0;34m\u001b[0m\u001b[0m\n\u001b[0m\u001b[1;32m     58\u001b[0m \u001b[0;34m\u001b[0m\u001b[0m\n\u001b[1;32m     59\u001b[0m     \u001b[0;31m# An AttributeError occurs if the object does not have\u001b[0m\u001b[0;34m\u001b[0m\u001b[0;34m\u001b[0m\u001b[0m\n",
      "\u001b[0;31mKeyboardInterrupt\u001b[0m: "
     ]
    }
   ],
   "source": [
    "test_accuracy = []\n",
    "#train your network \n",
    "val_accuracies = my_mnist_net.train(training_data,validation_data)\n",
    "#save your model in Models/ using a distinguishing name for your model (architecture, learning rate, etc...)"
   ]
  },
  {
   "cell_type": "code",
   "execution_count": null,
   "metadata": {
    "collapsed": false,
    "deletable": true,
    "editable": true
   },
   "outputs": [],
   "source": [
    "my_mnist_net.save('NN_MNIST_default_params')\n",
    "test_accuracy.append(my_mnist_net.predict(test_data)/100)\n",
    "print('Test_Accuracy  %-2.2f' % test_accuracy[-1])\n"
   ]
  },
  {
   "cell_type": "markdown",
   "metadata": {
    "collapsed": true,
    "deletable": true,
    "editable": true
   },
   "source": [
    "#Note your observations here. "
   ]
  },
  {
   "cell_type": "markdown",
   "metadata": {
    "deletable": true,
    "editable": true
   },
   "source": [
    "<b>Question 2.1.4</b>: Guess digit, Implement and test a python function that predict the class of a digit (the folder images_test contains some examples of images of digits)\n"
   ]
  },
  {
   "cell_type": "code",
   "execution_count": null,
   "metadata": {
    "collapsed": false,
    "deletable": true,
    "editable": true
   },
   "outputs": [],
   "source": [
    "#Your implementation goes here\n",
    "\n",
    "#DON'T KNOW HOW TO READ THE IMG\n",
    "import os\n",
    "from scipy import misc\n",
    "def guess_digit(nn, sample):\n",
    "    prediction = nn.feedForward(sample)\n",
    "    return np.argmax(prediction)\n",
    "\n",
    "dirname = 'Images_test'\n",
    "\n",
    "for image in os.listdir(dirname):\n",
    "    data = misc.imread(os.path.join(dirname, image), flatten=True)\n",
    "    resized = misc.imresize(data, (28,28))\n",
    "    print(guess_digit(my_mnist_net, resized))\n",
    "    #ata = data.reshape((28,28))\n",
    "    #np_f = np.array(data) / 255.0\n",
    "    \n",
    "\n",
    "\n",
    "\n",
    "\n"
   ]
  },
  {
   "cell_type": "markdown",
   "metadata": {},
   "source": [
    "The training has been made on images that have a black background and a white digit, in the folder *Images_test* only one picture respects that format, that's the main reason of the wrong classification. A possible solution is to recognize the images with a white background (histogram of colors) and invert the colors."
   ]
  },
  {
   "cell_type": "markdown",
   "metadata": {
    "deletable": true,
    "editable": true
   },
   "source": [
    "<b>Part 2</b>: Change the neural network structure and parameters to optimize performance"
   ]
  },
  {
   "cell_type": "markdown",
   "metadata": {
    "collapsed": true,
    "deletable": true,
    "editable": true
   },
   "source": [
    "<b> Question 2.2.1</b>: Change the learning rate (0.001, 0.1, 1.0 , 10). Train the new neural nets with the original specifications (Part 2.1), for 50 iterations. \n",
    "Plot test accuracy vs iteration for each learning rate on the same graph. Report the maximum\n",
    "test accuracy achieved for each learning rate. Which one achieves the maximum test accuracy?"
   ]
  },
  {
   "cell_type": "code",
   "execution_count": null,
   "metadata": {
    "collapsed": false,
    "deletable": true,
    "editable": true
   },
   "outputs": [
    {
     "name": "stdout",
     "output_type": "stream",
     "text": [
      "Iteration:  1/50[==============] -Error: 0.4914513886  -Training_Accuracy:  38.11  -time: 19.72 \n",
      "('Validation accuracy', 39.5)\n",
      "Iteration:  2/50[==============] -Error: 0.3882449398  -Training_Accuracy:  47.52  -time: 40.07 \n",
      "('Validation accuracy', 48.89)\n",
      "Iteration:  3/50[==============] -Error: 0.3575008189  -Training_Accuracy:  52.20  -time: 60.30 \n",
      "('Validation accuracy', 53.449999999999996)\n",
      "Iteration:  4/50[==============] -Error: 0.3350249801  -Training_Accuracy:  55.98  -time: 82.47 \n",
      "('Validation accuracy', 56.97)\n",
      "Iteration:  5/50[==============] -Error: 0.3175562441  -Training_Accuracy:  59.03  -time: 104.19 \n",
      "('Validation accuracy', 60.019999999999996)\n",
      "Iteration:  6/50[==============] -Error: 0.3031632565  -Training_Accuracy:  61.71  -time: 125.09 \n",
      "('Validation accuracy', 62.480000000000004)\n",
      "Iteration:  7/50[==============] -Error: 0.2908094982  -Training_Accuracy:  64.54  -time: 151.53 \n",
      "('Validation accuracy', 65.36)\n"
     ]
    }
   ],
   "source": [
    "#Your implementation with a learning rate of 0.001 goes here \n",
    "\n",
    "learning_rate = 0.001\n",
    "\n",
    "my_mnist_net_1 = NeuralNetwork(input_nodes, hidden_nodes, output_nodes, learning_rate=learning_rate)\n",
    "val_accuracies_1 = my_mnist_net_1.train(training_data,validation_data)\n",
    "test_accuracy.append(my_mnist_net_1.predict(test_data)/100)\n",
    "\n",
    "print('Learning rate %f, Test_Accuracy  %-2.2f' % (learning_rate, test_accuracy[-1]))\n",
    "\n",
    "my_mnist_net_1.save('NN_MNIST_0-001')"
   ]
  },
  {
   "cell_type": "code",
   "execution_count": null,
   "metadata": {
    "collapsed": false,
    "deletable": true,
    "editable": true
   },
   "outputs": [],
   "source": [
    "plot_curve(range(1,my_mnist_net_1.iterations+1), val_accuracies_1, \"Val_Accuracy\")"
   ]
  },
  {
   "cell_type": "code",
   "execution_count": null,
   "metadata": {
    "collapsed": false,
    "deletable": true,
    "editable": true
   },
   "outputs": [],
   "source": [
    "#Your implementation with a learning rate of 1.0 goes here \n",
    "\n",
    "learning_rate = 1.0\n",
    "\n",
    "my_mnist_net_2 = NeuralNetwork(input_nodes, hidden_nodes, output_nodes, learning_rate=learning_rate)\n",
    "val_accuracies_2 = my_mnist_net_2.train(training_data,validation_data)\n",
    "test_accuracy.append(my_mnist_net_2.predict(test_data)/100)\n",
    "\n",
    "print('Learning rate %f, Test_Accuracy  %-2.2f' % (learning_rate, test_accuracy[-1]))\n",
    "\n",
    "my_mnist_net_2.save('NN_MNIST_1-00')\n"
   ]
  },
  {
   "cell_type": "code",
   "execution_count": null,
   "metadata": {
    "collapsed": false,
    "deletable": true,
    "editable": true
   },
   "outputs": [],
   "source": [
    "plot_curve(range(1,my_mnist_net_2.iterations+1), val_accuracies_2, \"Val_Accuracy\")"
   ]
  },
  {
   "cell_type": "code",
   "execution_count": null,
   "metadata": {
    "collapsed": false,
    "deletable": true,
    "editable": true
   },
   "outputs": [],
   "source": [
    "#Your implementation with a learning rate of 10 goes here \n",
    "\n",
    "\n",
    "learning_rate = 10\n",
    "\n",
    "my_mnist_net_3 = NeuralNetwork(input_nodes, hidden_nodes, output_nodes, learning_rate=learning_rate)\n",
    "val_accuracies_3 = my_mnist_net_3.train(training_data,validation_data)\n",
    "test_accuracy.append(my_mnist_net_3.predict(test_data)/100)\n",
    "print('Learning rate %f, Test_Accuracy  %-2.2f' % (learning_rate, test_accuracy[-1]))\n",
    "my_mnist_net_3.save('NN_MNIST_10-0')"
   ]
  },
  {
   "cell_type": "code",
   "execution_count": null,
   "metadata": {
    "collapsed": false,
    "deletable": true,
    "editable": true
   },
   "outputs": [],
   "source": [
    "plot_curve(range(1,my_mnist_net_3.iterations+1), val_accuracies_3, \"Val_Accuracy\")\n",
    "\n",
    "\n",
    "#plotting different validation accuracies in the same plot\n",
    "x = arange(0,50)\n",
    "plt.figure(figsize=(18,10))\n",
    "plt.title('Validation accuracies per different learning rates')\n",
    "plt.xticks(x)\n",
    "plt.grid()\n",
    "plt.plot(x,val_accuracies_1, label=0.001)\n",
    "plt.plot(x,val_accuracies, label=0.1)\n",
    "plt.plot(x,val_accuracies_2, label=1)\n",
    "plt.plot(x,val_accuracies_3, label=10)\n",
    "plt.legend(title=\"Learning rates\")\n",
    "plt.show()\n",
    "\n",
    "rates = [0.1, 0.001, 1, 10]\n",
    "\n",
    "best_rate = rates[np.argmax(test_accuracy)]\n",
    "print(\"Best learning rate = %f\", best_rate)"
   ]
  },
  {
   "cell_type": "markdown",
   "metadata": {
    "deletable": true,
    "editable": true
   },
   "source": [
    "<h3>Comment</h3>\n",
    "Increasing the learning rate increases the step size at which our weights get updated. "
   ]
  },
  {
   "cell_type": "markdown",
   "metadata": {
    "deletable": true,
    "editable": true
   },
   "source": [
    " <b> Question 2.2.2 : </b> initialize all weights to 0.  Plot the training accuracy curve.\n",
    "Comment your results\n",
    "    \n",
    "        "
   ]
  },
  {
   "cell_type": "code",
   "execution_count": null,
   "metadata": {
    "collapsed": false,
    "deletable": true,
    "editable": true
   },
   "outputs": [],
   "source": [
    "#Your implementation goes here\n",
    "my_mnist_net_zeros = NeuralNetwork(input_nodes, hidden_nodes, output_nodes)\n",
    "\n",
    "input_hidden_weights = np.zeros(my_mnist_net_zeros.input, my_mnist_net_zeros.hidden-1)\n",
    "hidden_output_weights = np.zeros(my_mnist_net_zeros.hidden, my_mnist_net_zeros.output)\n",
    "\n",
    "my_mnist_net_zeros.weights_initialisation(input_hidden_weights, hidden_output_weights)\n",
    "\n",
    "my_mnist_net_zeros.train(training_data,validation_data)"
   ]
  },
  {
   "cell_type": "markdown",
   "metadata": {
    "deletable": true,
    "editable": true
   },
   "source": [
    "#Your answer goes here"
   ]
  },
  {
   "cell_type": "markdown",
   "metadata": {
    "deletable": true,
    "editable": true
   },
   "source": [
    "<b> Question 2.2.3 : </b> Try with a different transfer function (such as tanh).\n",
    " File transfer_functions.py provides you the python implementation of the tanh function and its derivative"
   ]
  },
  {
   "cell_type": "code",
   "execution_count": null,
   "metadata": {
    "collapsed": true,
    "deletable": true,
    "editable": true
   },
   "outputs": [],
   "source": [
    "#Your implementation goes here\n",
    "\n",
    "my_mnist_net_tanh = NeuralNetwork(input_nodes, hidden_nodes, output_nodes, transfer='tanh')\n",
    "#Your implementation goes here\n",
    "my_mnist_net_tanh.train(training_data,validation_data)"
   ]
  },
  {
   "cell_type": "markdown",
   "metadata": {
    "deletable": true,
    "editable": true
   },
   "source": [
    "The range of values of *tanh* goes is (-1, 1) but our labels are only 0,1. That implies an unbalanced distribution of the labels [???] #JONAS HERE"
   ]
  },
  {
   "cell_type": "markdown",
   "metadata": {
    "deletable": true,
    "editable": true
   },
   "source": [
    "\n",
    "<b> Question 2.2.4 : </b>  Add more neurons in the hidden layer (try with 100, 200, 300). Plot the curve representing the validation accuracy versus the number of neurons in the hidden layer.  (Choose and justify other hyper-parameters)"
   ]
  },
  {
   "cell_type": "code",
   "execution_count": null,
   "metadata": {
    "collapsed": true,
    "deletable": true,
    "editable": true
   },
   "outputs": [],
   "source": [
    "#Your implementation goes here\n",
    "\n",
    "learning_rate = best_rate\n",
    "#using the best rate found before\n",
    "my_mnist_net_100_hidden = NeuralNetwork(input_nodes, 100, output_nodes, learning_rate=learning_rate)\n",
    "val_accuracies_100 = my_mnist_net_100_hidden.train(training_data,validation_data)\n",
    "print(val_accuracies_100[-1])\n",
    "\n",
    "my_mnist_net_200_hidden = NeuralNetwork(input_nodes, 200, output_nodes, learning_rate=learning_rate)\n",
    "val_accuracies_200 = my_mnist_net_200_hidden.train(training_data,validation_data)\n",
    "print(val_accuracies_200[-1])\n",
    "\n",
    "my_mnist_net_300_hidden = NeuralNetwork(input_nodes, 300, output_nodes, learning_rate=learning_rate)\n",
    "val_accuracies_300 = my_mnist_net_300_hidden.train(training_data,validation_data)\n",
    "print(val_accuracies_300[-1])"
   ]
  },
  {
   "cell_type": "code",
   "execution_count": null,
   "metadata": {
    "collapsed": true
   },
   "outputs": [],
   "source": [
    "plt.xlabel(\"Number of hidden neurons\")\n",
    "plt.ylabel(\"Validation accuracy\")\n",
    "plt.title(\"Validation accuracy vs number of neurons in hidder layer\")\n",
    "plt.figure(figsize=(18,10))\n",
    "plt.plot([100, 200, 300], [val_accuracies_100[-1], val_accuracies_200[-1], val_accuracies_300[-1]])\n",
    "plt.show()"
   ]
  },
  {
   "cell_type": "markdown",
   "metadata": {
    "deletable": true,
    "editable": true
   },
   "source": [
    "#Your answer goes here"
   ]
  },
  {
   "cell_type": "markdown",
   "metadata": {
    "deletable": true,
    "editable": true
   },
   "source": [
    "<b> Question 2.2.5 : </b> Add one additionnal hidden layers and train your network, discuss your results with different setting. \n",
    "\n"
   ]
  },
  {
   "cell_type": "code",
   "execution_count": null,
   "metadata": {
    "collapsed": true,
    "deletable": true,
    "editable": true
   },
   "outputs": [],
   "source": [
    "#Your implementation goes here\n",
    "\n",
    "\n",
    "import NeuralNetwork2 import NeuralNetwork2\n",
    "\n",
    "#create the network\n",
    "\n",
    "input_nodes = 784\n",
    "hidden_nodes_1 = 30\n",
    "hidden_nodes_2 = 30\n",
    "output_nodes = 10\n",
    "\n",
    "my_mnist_net = NeuralNetwork2(input_nodes, hidden_nodes_1, hidden_nodes_2, output_nodes)\n",
    "val_acc_1 = my_mnist_net.train(training_data,validation_data)\n",
    "acc_1 = my_mnist_net.predict(test_data)/100\n",
    "print(\"Accuracy with default learning rate = %f\" % acc_1)\n",
    "\n",
    "if best_rate != 0.1\n",
    "    my_mnist_net_2 = my_mnist_net = NeuralNetwork2(input_nodes, hidden_nodes_1, hidden_nodes_2, output_nodes, learning_rate = best_rate)\n",
    "    val_acc_2 = my_mnist_net_2.train(training_data, validation_data)\n",
    "    acc_2 = my_mnist_net_2.predict(test_data)/100\n",
    "    print(\"Learing rate = %f, accuracy = %f\" % (best_rate, acc_1))\n",
    "\n",
    "\n",
    "    \n"
   ]
  },
  {
   "cell_type": "markdown",
   "metadata": {
    "deletable": true,
    "editable": true
   },
   "source": [
    "#Your answer goes here"
   ]
  }
 ],
 "metadata": {
  "kernelspec": {
   "display_name": "Python 3",
   "language": "python",
   "name": "python3"
  },
  "language_info": {
   "codemirror_mode": {
    "name": "ipython",
    "version": 3
   },
   "file_extension": ".py",
   "mimetype": "text/x-python",
   "name": "python",
   "nbconvert_exporter": "python",
   "pygments_lexer": "ipython3",
   "version": "3.5.2"
  }
 },
 "nbformat": 4,
 "nbformat_minor": 2
}
