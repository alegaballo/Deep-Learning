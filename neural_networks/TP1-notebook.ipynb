{
 "cells": [
  {
   "cell_type": "markdown",
   "metadata": {
    "collapsed": true,
    "deletable": true,
    "editable": true
   },
   "source": [
    "<h1 style=\"text-align:center\">Deep Learning  Lab Session </h1>\n",
    "<h1 style=\"text-align:center\">First Lab Session - 3 Hours </h1>\n",
    "<h1 style=\"text-align:center\">Artificial Neural Networks for Handwritten Digits Recognition</h1>"
   ]
  },
  {
   "cell_type": "markdown",
   "metadata": {
    "deletable": true,
    "editable": true
   },
   "source": [
    "<b> Student 1:</b> Alessandro Gaballo \n",
    "<b> Student 2:</b> Jonas Wacker\n",
    " \n",
    " \n",
    "The aim of this session is to practice with Artificial Neural Networks. Answers and experiments should be made by groups of one or two students. Each group should fill and run appropriate notebook cells. \n",
    "\n",
    "To generate your final report, use print as PDF (Ctrl+P). Do not forget to run all your cells before generating your final report and do not forget to include the names of all participants in the group. The lab session should be completed by April 7th 2017. "
   ]
  },
  {
   "cell_type": "markdown",
   "metadata": {
    "deletable": true,
    "editable": true
   },
   "source": [
    "# Introduction"
   ]
  },
  {
   "cell_type": "markdown",
   "metadata": {
    "deletable": true,
    "editable": true
   },
   "source": [
    "\n",
    "In this session, your will implement, train and test a Neural Network\n",
    "for the Handwritten Digits Recognition problem <a href=\"http://yann.lecun.com/exdb/mnist/\"> [1] </a> with  different settings of hyper parameters. You will use the MNIST dataset which was constructed from a number of scanned document dataset available from the National Institute of Standards and Technology (NIST). Images of digits were taken from a variety of scanned documents, normalized in size and centered. \n",
    "\n",
    "\n",
    "<img src=\"Nimages/mnist.png\",width=\"350\" height=\"500\" align=\"center\">\n",
    "<center><span>Figure 1: MNIST digits examples</span></center>\n",
    "\n",
    "\n",
    "This assignment includes a written part of programms to help you understand how to build and train\n",
    "your neural net and then to test your code and get restults. \n",
    "\n",
    "1. <a href=\"NeuralNetwork.py\"> NeuralNetwork.py </a> \n",
    "2. <a href=\"transfer_functions.py\"> transfer_functions.py </a> \n",
    "3.  <a href=\"utils.py \"> utils.py </a> \n",
    "\n",
    "\n",
    "Functions defined inside the python files mentionned above can be imported  using the python command : \n",
    "from filename import *\n",
    "\n",
    "You will use the following libraries:\n",
    "\n",
    "1. <a href=\"http://cs231n.github.io/python-numpy-tutorial/\"> numpy </a>: for creating arrays and using methods to manipulate arrays.\n",
    "\n",
    "2. <a href=\"http://matplotlib.org/\"> matplotlib  </a>: for making plots\n",
    " \n",
    "\n",
    "\n",
    "\n",
    "\n",
    "\n",
    "\n"
   ]
  },
  {
   "cell_type": "markdown",
   "metadata": {
    "deletable": true,
    "editable": true
   },
   "source": [
    "# Section 1 :  My First Neural Network\n",
    "\n",
    "<b>Part 1</b>: Before designing and writing your code, you will first work on a neural network by hand. \n",
    "Consider the above Neural network with two inputs $X=(x1,x2)$, one hidden layers and a single output unit $(y)$.\n",
    "The initial weights are set to random values. Neurons 6 and 7 represent the bias. Bias values are equal to 1.  \n",
    "Training sample, X = (0.8, 0.2), whose class label is Y=0.4.\n",
    "\n",
    "Assume that the neurons have a Sigmoid activation function  $f(x)=\\frac{1}{(1+e^{-x})}$ and the learning rate $\\mu$=1\n",
    "\n",
    "\n",
    "<img src=\"Nimages/NN.png\", width=\"700\" height=\"900\"> \n",
    "<center><span>Figure 2: Neural network </span></center>\n",
    "\n",
    "\n",
    "<b>Question 1.1.1</b>: Compute the new values of weights $w_{i,j}$ after a forward pass and a backward pass.\n",
    "$w_{i,j}$ is the weight of the connexion between neuron $i$ and neuron $j$."
   ]
  },
  {
   "cell_type": "markdown",
   "metadata": {
    "collapsed": true,
    "deletable": true,
    "editable": true
   },
   "source": [
    "#Your answer goes here :\n",
    "\n",
    "$w_{1,3}=  0.3043 $ \n",
    "\n",
    "$w_{1,4}=  -0.5027 $\n",
    "\n",
    "$w_{2,3}= 0.8011 $\n",
    "\n",
    "$w_{2,4}= 0.1993 $\n",
    "\n",
    "$w_{6,3}= 0.2054 $\n",
    "\n",
    "$w_{6,4}= -0.4034 $\n",
    "\n",
    "$w_{3,5}= 0.6254 $\n",
    "\n",
    "$w_{4,5}= 0.3875 $\n",
    "\n",
    "$w_{7,5}= 0.4606 $\n",
    "\n",
    "\n"
   ]
  },
  {
   "cell_type": "markdown",
   "metadata": {
    "deletable": true,
    "editable": true
   },
   "source": [
    "<b>Part 2</b>: Neural Network Implementation\n",
    "\n",
    "Please read all source files carefully and understand the data structures and all functions.\n",
    "You are to complete the missing code. \n",
    "First you should define the neural network (using the NeuralNetwork class, see in the <a href=\"NeuralNetwork.py\"> NeuralNetwork.py </a> file) and reinitialise weights. \n",
    "Then you will to complete the Feed Forward and the Back-propagation functions. \n",
    "\n",
    "<b>Question 1.2.1</b>: Define the neural network corresponding to the one in part 1"
   ]
  },
  {
   "cell_type": "code",
   "execution_count": null,
   "metadata": {
    "collapsed": false,
    "deletable": true,
    "editable": true
   },
   "outputs": [],
   "source": [
    "from NeuralNetwork import *\n",
    "import numpy as np\n",
    "#create the network\n",
    "my_first_net = NeuralNetwork(2, 2, 1, learning_rate=1)\n"
   ]
  },
  {
   "cell_type": "code",
   "execution_count": null,
   "metadata": {
    "collapsed": false,
    "deletable": true,
    "editable": true
   },
   "outputs": [],
   "source": [
    "#Data preparation \n",
    "X=[0.8,0.2]\n",
    "Y=[0.4]\n",
    "data=[]\n",
    "data.append(X)\n",
    "data.append(Y)\n",
    "\n",
    "#initialize weights\n",
    "wi=np.array([[0.3,-0.5],[0.8,0.2],[0.2,-0.4]])\n",
    "wo=np.array([[-0.6],[0.4],[0.5]])\n",
    "my_first_net.weights_initialisation(wi,wo)\n",
    "print(my_first_net.W_input_to_hidden)\n",
    "print(my_first_net.W_hidden_to_output)\n",
    "\n",
    "\n",
    "\n",
    "\n"
   ]
  },
  {
   "cell_type": "markdown",
   "metadata": {
    "deletable": true,
    "editable": true
   },
   "source": [
    "<b>Question 1.2.2</b>: Implement the Feed Forward function (feedForward(X) in the NeuralNetwork.py file)\n",
    "\n"
   ]
  },
  {
   "cell_type": "code",
   "execution_count": null,
   "metadata": {
    "collapsed": true,
    "deletable": true,
    "editable": true
   },
   "outputs": [],
   "source": [
    "# Implement it in the NeuralNetwork.py file and when finalised copy and paste your FeedForward function here\n",
    "def transfer_function(self, x):\n",
    "    return 1.0 / (1.0 + np.exp(-x))\n",
    "    \n",
    "def feedForward(self, inputs):\n",
    "    self.a_input = np.append(inputs, 1)\n",
    "    a_hidden_without_bias = np.dot(self.a_input, self.W_input_to_hidden)\n",
    "    self.a_hidden = np.append(a_hidden_without_bias, 0)\n",
    "    self.o_hidden = self.transfer_function(self.a_hidden)\n",
    "    self.o_hidden[-1] = 1\n",
    "    self.a_output = np.dot(self.o_hidden, self.W_hidden_to_output)\n",
    "    self.o_output = self.transfer_function(self.a_output)\n",
    "    return self.o_output\n"
   ]
  },
  {
   "cell_type": "markdown",
   "metadata": {
    "deletable": true,
    "editable": true
   },
   "source": [
    "Check your network outputs the expected value (the one you computed in question 1.1)"
   ]
  },
  {
   "cell_type": "code",
   "execution_count": null,
   "metadata": {
    "collapsed": false,
    "deletable": true,
    "editable": true
   },
   "outputs": [],
   "source": [
    "#test my  Feed Forward function \n",
    "Output_activation=my_first_net.feedForward(X)\n",
    "print(\"output activation =%.3f\" %(Output_activation))\n"
   ]
  },
  {
   "cell_type": "markdown",
   "metadata": {
    "deletable": true,
    "editable": true
   },
   "source": [
    "<b>Question 1.2.3</b>: Implement the Back-propagation Algorithm (backPropagate(Y) in the NeuralNetwork.py file)  \n"
   ]
  },
  {
   "cell_type": "code",
   "execution_count": null,
   "metadata": {
    "collapsed": false,
    "deletable": true,
    "editable": true
   },
   "outputs": [],
   "source": [
    "# Implement it in the NeuralNetwork.py file and when finalised copy and paste your BackPropagate function here\n",
    "def backPropagate(self, targets):\n",
    "        \n",
    "    # calculate error terms for output\n",
    "    self.errors = self.o_output - targets\n",
    "    delta_e_u_output = self.errors * self.o_output * (1 - self.o_output)\n",
    "    delta_e_u_horizontal = np.matrix(delta_e_u_output)\n",
    "    o_hidden_vertical = np.matrix(self.o_hidden).T\n",
    "        \n",
    "    delta_e_w_output = np.dot(o_hidden_vertical, delta_e_u_horizontal)\n",
    "\n",
    "    # calculate error terms for hidden\n",
    "    delta_e_u_hidden = np.dot(self.W_hidden_to_output, delta_e_u_output) * self.o_hidden * (1 - self.o_hidden)\n",
    "    delta_e_u_horizontal = np.matrix(delta_e_u_hidden)\n",
    "    o_input_vertical = np.matrix(self.a_input).T\n",
    "    delta_e_w_hidden = np.dot(o_input_vertical, delta_e_u_horizontal)\n",
    "    # delete last column\n",
    "    # delta_e_w_hidden = delta_e_w_hidden[:,0:delta_e_w_hidden.shape[1]-1]\n",
    "    delta_e_w_hidden = np.delete(delta_e_w_hidden, -1, 1)\n",
    "    # update output weights\n",
    "    self.W_hidden_to_output -= self.learning_rate * delta_e_w_output\n",
    "    # update input weights\n",
    "    self.W_input_to_hidden -= self.learning_rate * delta_e_w_hidden\n",
    "        \n",
    "    return np.square(self.errors).sum()/2\n"
   ]
  },
  {
   "cell_type": "markdown",
   "metadata": {
    "deletable": true,
    "editable": true
   },
   "source": [
    "Check the gradient values and weight updates are correct (similar to the ones you computed in question 1.1)"
   ]
  },
  {
   "cell_type": "code",
   "execution_count": null,
   "metadata": {
    "collapsed": false,
    "deletable": true,
    "editable": true
   },
   "outputs": [],
   "source": [
    "#test my  Back-propagation function\n",
    "my_first_net.backPropagate(Y)\n",
    "#Print weights after backpropagation\n",
    "print('wi_new=', my_first_net.W_input_to_hidden)\n",
    "print('wo_new=', my_first_net.W_hidden_to_output)\n",
    "\n",
    "\n",
    "\n",
    "\n",
    "\n"
   ]
  },
  {
   "cell_type": "markdown",
   "metadata": {
    "deletable": true,
    "editable": true
   },
   "source": [
    "Your Feed Forward and Back-Propagation implementations are working, Great!! Let's tackle a real world problem."
   ]
  },
  {
   "cell_type": "markdown",
   "metadata": {
    "collapsed": true,
    "deletable": true,
    "editable": true
   },
   "source": [
    "# Section 2 : The MNIST Challenge! "
   ]
  },
  {
   "cell_type": "markdown",
   "metadata": {
    "deletable": true,
    "editable": true
   },
   "source": [
    "<b>Data Preparation</b>\n",
    "\n",
    "The MNIST dataset consists of handwritten digit images it contains 60,000 examples for the training set and 10,000 examples for testing. In this Lab Session, the official training set of 60,000 is divided into an actual training set of 50,000 examples, 10,000 validation examples and 10,000 examples for test. All digit images have been size-normalized and centered in a fixed size image of 28 x 28 pixels. The images are stored in byte form you will use the NumPy python library to read the data files into NumPy arrays that we will use to train the ANN.\n",
    "\n",
    "The MNIST dataset is available in the Data folder.\n",
    "To get the training, testing and validation data, run the the load_data() function.\n"
   ]
  },
  {
   "cell_type": "code",
   "execution_count": 1,
   "metadata": {
    "collapsed": false,
    "deletable": true,
    "editable": true
   },
   "outputs": [
    {
     "name": "stdout",
     "output_type": "stream",
     "text": [
      "Loading MNIST data .....\n",
      "Done.\n"
     ]
    }
   ],
   "source": [
    "from utils import *\n",
    "training_data, validation_data, test_data=load_data()\n",
    "\n",
    "\n",
    "\n",
    "\n",
    "\n"
   ]
  },
  {
   "cell_type": "markdown",
   "metadata": {
    "deletable": true,
    "editable": true
   },
   "source": [
    "<b>MNIST Dataset Digits Visualisation</b>"
   ]
  },
  {
   "cell_type": "code",
   "execution_count": null,
   "metadata": {
    "collapsed": false,
    "deletable": true,
    "editable": true
   },
   "outputs": [],
   "source": [
    "ROW = 2\n",
    "COLUMN = 4\n",
    "for i in range(ROW * COLUMN):\n",
    "    # train[i][0] is i-th image data with size 28x28\n",
    "    image = training_data[i][0].reshape(28, 28)\n",
    "    plt.subplot(ROW, COLUMN, i+1)          \n",
    "    plt.imshow(image, cmap='gray')  # cmap='gray' is for black and white picture.\n",
    "plt.axis('off')  # do not show axis value\n",
    "plt.tight_layout()   # automatic padding between subplots\n",
    "plt.show()\n",
    "\n"
   ]
  },
  {
   "cell_type": "markdown",
   "metadata": {
    "deletable": true,
    "editable": true
   },
   "source": [
    "<b>Part 1</b>: Creating the Neural Networks\n",
    "\n",
    "The input layer of the neural network contains neurons encoding the values of the input pixels. The training data for the network will consist of many 28 by 28 pixel images of scanned handwritten digits, and so the input layer contains 784=28×28 neurons. The second layer of the network is a hidden layer, we set the neuron number in the hidden layer to 30. The output layer contains 10 neurons. \n",
    "\n",
    "<b>Question 2.1.1</b>: Create the network described above using the NeuralNetwork class"
   ]
  },
  {
   "cell_type": "code",
   "execution_count": 2,
   "metadata": {
    "collapsed": false,
    "deletable": true,
    "editable": true
   },
   "outputs": [],
   "source": [
    "#create the network\n",
    "from NeuralNetwork import NeuralNetwork \n",
    "\n",
    "input_nodes = 784\n",
    "hidden_nodes = 30\n",
    "output_nodes = 10\n",
    "\n",
    "my_mnist_net = NeuralNetwork(input_nodes, hidden_nodes, output_nodes)\n",
    "\n"
   ]
  },
  {
   "cell_type": "markdown",
   "metadata": {
    "deletable": true,
    "editable": true
   },
   "source": [
    "<b>Question 2.1.2</b>: Add the information about the performance of the neural network on the test set at each epoch"
   ]
  },
  {
   "cell_type": "code",
   "execution_count": null,
   "metadata": {
    "collapsed": false,
    "deletable": true,
    "editable": true
   },
   "outputs": [],
   "source": [
    "test_accuracy=my_mnist_net.predict(test_data) / 100\n",
    "print('Test_Accuracy  %-2.2f' % test_accuracy)\n",
    "\n",
    "\n"
   ]
  },
  {
   "cell_type": "markdown",
   "metadata": {
    "deletable": true,
    "editable": true
   },
   "source": [
    "<b>Question 2.1.3</b>: Train the Neural Network and comment your findings"
   ]
  },
  {
   "cell_type": "code",
   "execution_count": null,
   "metadata": {
    "collapsed": false,
    "deletable": true,
    "editable": true,
    "scrolled": true
   },
   "outputs": [],
   "source": [
    "#train your network \n",
    "my_mnist_net.train(training_data,validation_data)\n",
    "\n",
    "#save your model in Models/ using a distinguishing name for your model (architecture, learning rate, etc...)"
   ]
  },
  {
   "cell_type": "code",
   "execution_count": null,
   "metadata": {
    "collapsed": false,
    "deletable": true,
    "editable": true
   },
   "outputs": [],
   "source": [
    "my_mnist_net.save('NN_MNIST_default_params')\n",
    "test_accuracy=my_mnist_net.predict(test_data)/100\n",
    "print('Test_Accuracy  %-2.2f' % test_accuracy)\n"
   ]
  },
  {
   "cell_type": "markdown",
   "metadata": {
    "collapsed": true,
    "deletable": true,
    "editable": true
   },
   "source": [
    "#Note your observations here. "
   ]
  },
  {
   "cell_type": "markdown",
   "metadata": {
    "deletable": true,
    "editable": true
   },
   "source": [
    "<b>Question 2.1.4</b>: Guess digit, Implement and test a python function that predict the class of a digit (the folder images_test contains some examples of images of digits)\n"
   ]
  },
  {
   "cell_type": "code",
   "execution_count": null,
   "metadata": {
    "collapsed": false,
    "deletable": true,
    "editable": true
   },
   "outputs": [],
   "source": [
    "#Your implementation goes here\n",
    "\n",
    "#DON'T KNOW HOW TO READ THE IMG\n",
    "import os\n",
    "from scipy import misc\n",
    "def guess_digit(nn, sample):\n",
    "    prediction = nn.feedForward(sample)\n",
    "    return np.argmax(prediction)\n",
    "\n",
    "dirname = 'Images_test'\n",
    "\n",
    "for image in os.listdir(dirname):\n",
    "    data = misc.imread(os.path.join(dirname, image), flatten=True)\n",
    "    resized = misc.imresize(data, (28,28))\n",
    "    print(guess_digit(my_mnist_net, resized))\n",
    "    #ata = data.reshape((28,28))\n",
    "    #np_f = np.array(data) / 255.0\n",
    "    \n",
    "\n",
    "\n",
    "\n",
    "\n"
   ]
  },
  {
   "cell_type": "markdown",
   "metadata": {
    "deletable": true,
    "editable": true
   },
   "source": [
    "<b>Part 2</b>: Change the neural network structure and parameters to optimize performance"
   ]
  },
  {
   "cell_type": "markdown",
   "metadata": {
    "collapsed": true,
    "deletable": true,
    "editable": true
   },
   "source": [
    "<b> Question 2.2.1</b>: Change the learning rate (0.001, 0.1, 1.0 , 10). Train the new neural nets with the original specifications (Part 2.1), for 50 iterations. \n",
    "Plot test accuracy vs iteration for each learning rate on the same graph. Report the maximum\n",
    "test accuracy achieved for each learning rate. Which one achieves the maximum test accuracy?"
   ]
  },
  {
   "cell_type": "code",
   "execution_count": 5,
   "metadata": {
    "collapsed": false,
    "deletable": true,
    "editable": true
   },
   "outputs": [
    {
     "name": "stdout",
     "output_type": "stream",
     "text": [
      "Iteration:  1/50[==============] -Error: 0.4954348154  -Training_Accuracy:  44.46  -time: 20.14 \n",
      "Iteration:  2/50[==============] -Error: 0.3847908175  -Training_Accuracy:  52.34  -time: 41.70 \n",
      "Iteration:  3/50[==============] -Error: 0.3464662448  -Training_Accuracy:  58.45  -time: 63.14 \n",
      "Iteration:  4/50[==============] -Error: 0.3186507142  -Training_Accuracy:  62.63  -time: 84.30 \n",
      "Iteration:  5/50[==============] -Error: 0.2974612578  -Training_Accuracy:  65.13  -time: 106.08 \n",
      "Iteration:  6/50[==============] -Error: 0.2805987814  -Training_Accuracy:  67.27  -time: 126.14 \n",
      "Iteration:  7/50[==============] -Error: 0.2667431729  -Training_Accuracy:  68.72  -time: 147.04 \n",
      "Iteration:  8/50[==============] -Error: 0.2550739372  -Training_Accuracy:  69.89  -time: 168.11 \n",
      "Iteration:  9/50[==============] -Error: 0.2450336529  -Training_Accuracy:  71.15  -time: 190.17 \n",
      "Iteration: 10/50[==============] -Error: 0.2362537736  -Training_Accuracy:  72.08  -time: 209.97 \n",
      "Iteration: 11/50[==============] -Error: 0.2284504830  -Training_Accuracy:  73.04  -time: 229.60 \n",
      "Iteration: 12/50[==============] -Error: 0.2214463194  -Training_Accuracy:  73.85  -time: 249.73 \n",
      "Iteration: 13/50[==============] -Error: 0.2151234902  -Training_Accuracy:  74.62  -time: 271.13 \n",
      "Iteration: 14/50[==============] -Error: 0.2093672530  -Training_Accuracy:  75.35  -time: 292.91 \n",
      "Iteration: 15/50[==============] -Error: 0.2041089958  -Training_Accuracy:  75.99  -time: 313.13 \n",
      "Iteration: 16/50[==============] -Error: 0.1992971735  -Training_Accuracy:  76.52  -time: 334.47 \n",
      "Iteration: 17/50[==============] -Error: 0.1948419077  -Training_Accuracy:  77.02  -time: 354.87 \n",
      "Iteration: 18/50[==============] -Error: 0.1906994790  -Training_Accuracy:  77.58  -time: 375.97 \n",
      "Iteration: 19/50[==============] -Error: 0.1868322055  -Training_Accuracy:  77.99  -time: 396.94 \n",
      "Iteration: 20/50[==============] -Error: 0.1832284886  -Training_Accuracy:  78.39  -time: 417.44 \n",
      "Iteration: 21/50[==============] -Error: 0.1798288544  -Training_Accuracy:  78.79  -time: 437.91 \n",
      "Iteration: 22/50[==============] -Error: 0.1766602527  -Training_Accuracy:  79.16  -time: 458.18 \n",
      "Iteration: 23/50[==============] -Error: 0.1736581482  -Training_Accuracy:  79.50  -time: 478.26 \n",
      "Iteration: 24/50[==============] -Error: 0.1708307526  -Training_Accuracy:  79.78  -time: 499.36 \n",
      "Iteration: 25/50[==============] -Error: 0.1681502923  -Training_Accuracy:  80.10  -time: 521.13 \n",
      "Iteration: 26/50[==============] -Error: 0.1656080473  -Training_Accuracy:  80.42  -time: 542.00 \n",
      "Iteration: 27/50[==============] -Error: 0.1632068505  -Training_Accuracy:  80.66  -time: 562.86 \n",
      "Iteration: 28/50[==============] -Error: 0.1609186343  -Training_Accuracy:  80.97  -time: 582.64 \n",
      "Iteration: 29/50[==============] -Error: 0.1587420446  -Training_Accuracy:  81.19  -time: 602.70 \n",
      "Iteration: 30/50[==============] -Error: 0.1566468388  -Training_Accuracy:  81.44  -time: 624.11 \n",
      "Iteration: 31/50[==============] -Error: 0.1546787039  -Training_Accuracy:  81.64  -time: 644.62 \n",
      "Iteration: 32/50[==============] -Error: 0.1527799971  -Training_Accuracy:  81.86  -time: 665.27 \n",
      "Iteration: 33/50[==============] -Error: 0.1509625769  -Training_Accuracy:  82.07  -time: 686.33 \n",
      "Iteration: 34/50[==============] -Error: 0.1491987468  -Training_Accuracy:  82.25  -time: 710.02 \n",
      "Iteration: 35/50[==============] -Error: 0.1475221910  -Training_Accuracy:  82.47  -time: 732.30 \n",
      "Iteration: 36/50[==============] -Error: 0.1459028311  -Training_Accuracy:  82.67  -time: 753.52 \n",
      "Iteration: 37/50[==============] -Error: 0.1443445243  -Training_Accuracy:  82.82  -time: 775.86 \n",
      "Iteration: 38/50[==============] -Error: 0.1428320123  -Training_Accuracy:  83.05  -time: 796.36 \n",
      "Iteration: 39/50[==============] -Error: 0.1413608035  -Training_Accuracy:  83.22  -time: 816.18 \n",
      "Iteration: 40/50[==============] -Error: 0.1399515653  -Training_Accuracy:  83.35  -time: 836.11 \n",
      "Iteration: 41/50[==============] -Error: 0.1385842985  -Training_Accuracy:  83.52  -time: 856.18 \n",
      "Iteration: 42/50[==============] -Error: 0.1372534744  -Training_Accuracy:  83.69  -time: 876.61 \n",
      "Iteration: 43/50[==============] -Error: 0.1359582095  -Training_Accuracy:  83.83  -time: 900.17 \n",
      "Iteration: 44/50[==============] -Error: 0.1347108596  -Training_Accuracy:  83.97  -time: 920.31 \n",
      "Iteration: 45/50[==============] -Error: 0.1334818530  -Training_Accuracy:  84.14  -time: 941.13 \n",
      "Iteration: 46/50[==============] -Error: 0.1323034540  -Training_Accuracy:  84.29  -time: 962.33 \n",
      "Iteration: 47/50[==============] -Error: 0.1311488259  -Training_Accuracy:  84.41  -time: 982.56 \n",
      "Iteration: 48/50[==============] -Error: 0.1300293355  -Training_Accuracy:  84.55  -time: 1002.82 \n",
      "Iteration: 49/50[==============] -Error: 0.1289496865  -Training_Accuracy:  84.70  -time: 1022.39 \n",
      "Iteration: 50/50[==============] -Error: 0.1278871624  -Training_Accuracy:  84.82  -time: 1042.08 \n"
     ]
    },
    {
     "data": {
      "image/png": "[encoded data removed]",
      "text/plain": [
       "<matplotlib.figure.Figure at 0x7fcd29330f90>"
      ]
     },
     "metadata": {},
     "output_type": "display_data"
    },
    {
     "data": {
      "image/png": "[encoded data removed]",
      "text/plain": [
       "<matplotlib.figure.Figure at 0x7fcd29309a50>"
      ]
     },
     "metadata": {},
     "output_type": "display_data"
    },
    {
     "name": "stdout",
     "output_type": "stream",
     "text": [
      "Learning rate 0.001000, Test_Accuracy  86.29\n"
     ]
    }
   ],
   "source": [
    "#Your implementation with a learning rate of 0.001 goes here \n",
    "\n",
    "learning_rate = 0.001\n",
    "\n",
    "my_mnist_net_1 = NeuralNetwork(input_nodes, hidden_nodes, output_nodes, learning_rate=learning_rate)\n",
    "val_accuracies_1 = my_mnist_net_1.train(training_data,validation_data)\n",
    "test_accuracy = my_mnist_net_1.predict(test_data)/100\n",
    "\n",
    "print('Learning rate %f, Test_Accuracy  %-2.2f' % (learning_rate, test_accuracy))\n",
    "\n",
    "my_mnist_net_1.save('NN_MNIST_0-001')"
   ]
  },
  {
   "cell_type": "code",
   "execution_count": 6,
   "metadata": {
    "collapsed": false
   },
   "outputs": [
    {
     "data": {
      "image/png": "[encoded data removed]",
      "text/plain": [
       "<matplotlib.figure.Figure at 0x7fcd293462d0>"
      ]
     },
     "metadata": {},
     "output_type": "display_data"
    }
   ],
   "source": [
    "plot_curve(range(1,my_mnist_net_1.iterations+1), val_accuracies_1, \"Val_Accuracy\")"
   ]
  },
  {
   "cell_type": "code",
   "execution_count": null,
   "metadata": {
    "collapsed": false,
    "deletable": true,
    "editable": true
   },
   "outputs": [
    {
     "name": "stdout",
     "output_type": "stream",
     "text": [
      "Iteration:  1/50[==============] -Error: 0.1136565487  -Training_Accuracy:  90.89  -time: 21.38 \n",
      "Iteration:  2/50[==============] -Error: 0.0782534280  -Training_Accuracy:  91.62  -time: 41.58 \n",
      "Iteration:  3/50[==============] -Error: 0.0680930232  -Training_Accuracy:  92.84  -time: 63.04 \n",
      "Iteration:  4/50[==============] -Error: 0.0615476834  -Training_Accuracy:  93.66  -time: 83.88 \n",
      "Iteration:  5/50[==============] -Error: 0.0584206668  -Training_Accuracy:  93.26  -time: 104.18 \n",
      "Iteration:  6/50[==============] -Error: 0.0570857734  -Training_Accuracy:  93.37  -time: 123.51 \n",
      "Iteration:  7/50[==============] -Error: 0.0539685170  -Training_Accuracy:  94.53  -time: 145.35 \n",
      "Iteration:  8/50[==============] -Error: 0.0528203381  -Training_Accuracy:  94.16  -time: 169.82 \n",
      "Iteration:  9/50[==============] -Error: 0.0511300891  -Training_Accuracy:  94.36  -time: 192.88 \n",
      "Iteration: 10/50[==============] -Error: 0.0494470601  -Training_Accuracy:  94.70  -time: 216.79 \n",
      "Iteration: 11/50[==============] -Error: 0.0470071069  -Training_Accuracy:  94.67  -time: 242.65 \n",
      "Iteration: 12/50[==============] -Error: 0.0476563279  -Training_Accuracy:  94.07  -time: 263.00 \n",
      "Iteration: 13/50[==============] -Error: 0.0476247675  -Training_Accuracy:  94.81  -time: 285.97 \n",
      "Iteration: 14/50[==============] -Error: 0.0473427741  -Training_Accuracy:  95.47  -time: 307.83 \n",
      "Iteration: 15/50[==============] -Error: 0.0449587316  -Training_Accuracy:  95.45  -time: 327.93 \n",
      "Iteration: 16/50[==============] -Error: 0.0446294445  -Training_Accuracy:  95.06  -time: 346.89 \n",
      "Iteration: 17/50[==============] -Error: 0.0455798067  -Training_Accuracy:  95.19  -time: 371.80 \n",
      "Iteration: 18/50[==============] -Error: 0.0440523245  -Training_Accuracy:  95.36  -time: 390.75 \n",
      "Iteration: 19/50[==============] -Error: 0.0434822333  -Training_Accuracy:  95.36  -time: 410.61 \n",
      "Iteration: 20/50[==============] -Error: 0.0427697107  -Training_Accuracy:  95.33  -time: 429.59 \n",
      "Iteration: 21/50[==============] -Error: 0.0422057935  -Training_Accuracy:  95.70  -time: 448.78 \n",
      "Iteration: 22/50[==============] -Error: 0.0429228309  -Training_Accuracy:  95.18  -time: 470.31 \n",
      "Iteration: 23/50[==============] -Error: 0.0430265553  -Training_Accuracy:  95.61  -time: 490.32 \n",
      "Iteration: 24/50[==============] -Error: 0.0407251648  -Training_Accuracy:  95.91  -time: 511.83 \n",
      "Iteration: 25/50[==============] -Error: 0.0406835873  -Training_Accuracy:  95.72  -time: 535.32 \n",
      "Iteration: 26/50[==============] -Error: 0.0400164937  -Training_Accuracy:  95.95  -time: 556.39 \n"
     ]
    }
   ],
   "source": [
    "#Your implementation with a learning rate of 1.0 goes here \n",
    "\n",
    "learning_rate = 1.0\n",
    "\n",
    "my_mnist_net_2 = NeuralNetwork(input_nodes, hidden_nodes, output_nodes, learning_rate=learning_rate)\n",
    "val_accuracies_2 = my_mnist_net_2.train(training_data,validation_data)\n",
    "test_accuracy = my_mnist_net_2.predict(test_data)/100\n",
    "\n",
    "print('Learning rate %f, Test_Accuracy  %-2.2f' % (learning_rate, test_accuracy))\n",
    "\n",
    "my_mnist_net_2.save('NN_MNIST_1-00')\n"
   ]
  },
  {
   "cell_type": "code",
   "execution_count": null,
   "metadata": {
    "collapsed": true
   },
   "outputs": [],
   "source": [
    "plot_curve(range(1,my_mnist_net_2.iterations+1), val_accuracies_2, \"Val_Accuracy\")"
   ]
  },
  {
   "cell_type": "code",
   "execution_count": null,
   "metadata": {
    "collapsed": false,
    "deletable": true,
    "editable": true
   },
   "outputs": [],
   "source": [
    "#Your implementation with a learning rate of 10 goes here \n",
    "\n",
    "\n",
    "learning_rate = 10\n",
    "\n",
    "my_mnist_net_3 = NeuralNetwork(input_nodes, hidden_nodes, output_nodes, learning_rate=learning_rate)\n",
    "val_accuracies_3 = my_mnist_net_3.train(training_data,validation_data)\n",
    "test_accuracy=my_mnist_net_3.predict(test_data)/100\n",
    "print('Learning rate %f, Test_Accuracy  %-2.2f' % (learning_rate, test_accuracy))\n",
    "my_mnist_net_3.save('NN_MNIST_10-0')"
   ]
  },
  {
   "cell_type": "code",
   "execution_count": null,
   "metadata": {
    "collapsed": true
   },
   "outputs": [],
   "source": [
    "plot_curve(range(1,my_mnist_net_3.iterations+1), val_accuracies_3, \"Val_Accuracy\")"
   ]
  },
  {
   "cell_type": "markdown",
   "metadata": {
    "deletable": true,
    "editable": true
   },
   "source": [
    "#Your answer for Question 2.2.1 goes here"
   ]
  },
  {
   "cell_type": "markdown",
   "metadata": {
    "deletable": true,
    "editable": true
   },
   "source": [
    " <b> Question 2.2.2 : </b> initialize all weights to 0.  Plot the training accuracy curve.\n",
    "Comment your results\n",
    "    \n",
    "        "
   ]
  },
  {
   "cell_type": "code",
   "execution_count": null,
   "metadata": {
    "collapsed": true,
    "deletable": true,
    "editable": true
   },
   "outputs": [],
   "source": [
    "#Your implementation goes here\n",
    "my_mnist_net_zeros = NeuralNetwork(input_nodes, hidden_nodes, output_nodes)\n",
    "\n",
    "input_hidden_weights = np.zeros(my_mnist_net_zeros.input, my_mnist_net_zeros.hidden-1)\n",
    "hidden_output_weights = np.zeros(my_mnist_net_zeros.hidden, my_mnist_net_zeros.output)\n",
    "\n",
    "my_mnist_net_zeros.weights_initialisation(input_hidden_weights, hidden_output_weights)\n",
    "\n",
    "my_mnist_net_zeros.train(training_data,validation_data)\n",
    "\n"
   ]
  },
  {
   "cell_type": "markdown",
   "metadata": {
    "deletable": true,
    "editable": true
   },
   "source": [
    "#Your answer goes here"
   ]
  },
  {
   "cell_type": "markdown",
   "metadata": {
    "deletable": true,
    "editable": true
   },
   "source": [
    "<b> Question 2.2.3 : </b> Try with a different transfer function (such as tanh).\n",
    " File transfer_functions.py provides you the python implementation of the tanh function and its derivative"
   ]
  },
  {
   "cell_type": "code",
   "execution_count": null,
   "metadata": {
    "collapsed": true,
    "deletable": true,
    "editable": true
   },
   "outputs": [],
   "source": [
    "#Your implementation goes here\n",
    "\n",
    "my_mnist_net_tanh = NeuralNetwork(input_nodes, hidden_nodes, output_nodes, transfer='tanh')\n",
    "#Your implementation goes here\n",
    "my_mnist_net_tanh.train(training_data,validation_data)\n",
    "\n",
    "\n",
    "\n",
    "\n",
    "\n",
    "\n",
    "\n",
    "\n",
    "\n",
    "\n",
    "\n",
    "\n"
   ]
  },
  {
   "cell_type": "markdown",
   "metadata": {
    "deletable": true,
    "editable": true
   },
   "source": [
    "#Your answer goes here"
   ]
  },
  {
   "cell_type": "markdown",
   "metadata": {
    "deletable": true,
    "editable": true
   },
   "source": [
    "\n",
    "<b> Question 2.2.4 : </b>  Add more neurons in the hidden layer (try with 100, 200, 300). Plot the curve representing the validation accuracy versus the number of neurons in the hidden layer.  (Choose and justify other hyper-parameters)"
   ]
  },
  {
   "cell_type": "code",
   "execution_count": null,
   "metadata": {
    "collapsed": true,
    "deletable": true,
    "editable": true
   },
   "outputs": [],
   "source": [
    "#Your implementation goes here\n",
    "\n",
    "learning_rate = 0.001\n",
    "\n",
    "my_mnist_net_100_hidden = NeuralNetwork(input_nodes, 100, output_nodes, learning_rate=learning_rate)\n",
    "val_accuracies_100 = my_mnist_net_100_hidden.train(training_data,validation_data)\n",
    "print(val_accuracies_100[-1])\n",
    "\n",
    "my_mnist_net_200_hidden = NeuralNetwork(input_nodes, 200, output_nodes, learning_rate=learning_rate)\n",
    "val_accuracies_200 = my_mnist_net_200_hidden.train(training_data,validation_data)\n",
    "print(val_accuracies_200[-1])\n",
    "\n",
    "my_mnist_net_300_hidden = NeuralNetwork(input_nodes, 300, output_nodes, learning_rate=learning_rate)\n",
    "val_accuracies_300 = my_mnist_net_300_hidden.train(training_data,validation_data)\n",
    "print(val_accuracies_300[-1])\n",
    "\n"
   ]
  },
  {
   "cell_type": "markdown",
   "metadata": {
    "deletable": true,
    "editable": true
   },
   "source": [
    "#Your answer goes here"
   ]
  },
  {
   "cell_type": "markdown",
   "metadata": {
    "deletable": true,
    "editable": true
   },
   "source": [
    "<b> Question 2.2.5 : </b> Add one additionnal hidden layers and train your network, discuss your results with different setting. \n",
    "\n"
   ]
  },
  {
   "cell_type": "code",
   "execution_count": null,
   "metadata": {
    "collapsed": true,
    "deletable": true,
    "editable": true
   },
   "outputs": [],
   "source": [
    "#Your implementation goes here\n",
    "\n",
    "\n",
    "import NeuralNetwork2 import NeuralNetwork\n",
    "\n",
    "#create the network\n",
    "from NeuralNetwork import NeuralNetwork \n",
    "\n",
    "input_nodes = 784\n",
    "hidden_nodes_1 = 30\n",
    "hidden_nodes_2 = 30\n",
    "output_nodes = 10\n",
    "\n",
    "my_mnist_net = NeuralNetwork2(input_nodes, hidden_nodes_1, hidden_nodes_2, output_nodes)\n",
    "my_mnist_net.train(training_data,validation_data)\n",
    "\n",
    "\n",
    "\n",
    "\n",
    "\n",
    "\n",
    "\n",
    "\n",
    "\n"
   ]
  },
  {
   "cell_type": "markdown",
   "metadata": {
    "deletable": true,
    "editable": true
   },
   "source": [
    "#Your answer goes here"
   ]
  }
 ],
 "metadata": {
  "kernelspec": {
   "display_name": "Python 2",
   "language": "python",
   "name": "python2"
  },
  "language_info": {
   "codemirror_mode": {
    "name": "ipython",
    "version": 2
   },
   "file_extension": ".py",
   "mimetype": "text/x-python",
   "name": "python",
   "nbconvert_exporter": "python",
   "pygments_lexer": "ipython2",
   "version": "2.7.6"
  }
 },
 "nbformat": 4,
 "nbformat_minor": 2
}
