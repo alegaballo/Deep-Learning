{
 "cells": [
  {
   "cell_type": "markdown",
   "metadata": {},
   "source": [
    "<h1 style=\"text-align:center\">Deep Learning   </h1>\n",
    "<h1 style=\"text-align:center\"> Lab Session 2 - 3 Hours </h1>\n",
    "<h1 style=\"text-align:center\"> Convolutional Neural Network (CNN) for Handwritten Digits Recognition</h1>"
   ]
  },
  {
   "cell_type": "markdown",
   "metadata": {},
   "source": [
    "<b> Student 1:</b> # Gaballo Alessandro\n",
    "<b> Student 2:</b> # Wacker Jonas\n",
    " \n",
    " \n",
    "The aim of this session is to practice with Convolutional Neural Networks. Answers and experiments should be made by groups of one or two students. Each group should fill and run appropriate notebook cells. \n",
    "\n",
    "\n",
    "Once you have completed all of the code implementations and successfully answered each question above, you may finalize your work by exporting the iPython Notebook as an pdf document using print as PDF (Ctrl+P). Do not forget to run all your cells before generating your final report and do not forget to include the names of all participants in the group. The lab session should be completed by May 29th 2017.\n",
    "\n",
    "Send you pdf file to benoit.huet@eurecom.fr and olfa.ben-ahmed@eurecom.fr using **[DeepLearning_lab2]** as Subject of your email."
   ]
  },
  {
   "cell_type": "markdown",
   "metadata": {},
   "source": [
    "# Introduction"
   ]
  },
  {
   "cell_type": "markdown",
   "metadata": {},
   "source": [
    "In the last Lab Session, you built a Multilayer Perceptron for recognizing hand-written digits from the MNIST data-set. The best achieved accuracy on testing data was about 97%.  Can  you do better than these results using a deep CNN ?\n",
    "In this Lab Session, you will build, train and optimize in TensorFlow one of the early Convolutional Neural Networks:  **LeNet-5** to go to  more than 99% of accuracy. \n",
    "\n",
    "\n",
    "\n",
    "\n"
   ]
  },
  {
   "cell_type": "markdown",
   "metadata": {},
   "source": [
    "# Load MNIST Data in TensorFlow\n",
    "Run the cell above to load the MNIST data that comes  with TensorFlow. You will use this data in **Section 1** and **Section 2**."
   ]
  },
  {
   "cell_type": "code",
   "execution_count": 1,
   "metadata": {},
   "outputs": [
    {
     "name": "stdout",
     "output_type": "stream",
     "text": [
      "Extracting MNIST_data/train-images-idx3-ubyte.gz\n",
      "Extracting MNIST_data/train-labels-idx1-ubyte.gz\n",
      "Extracting MNIST_data/t10k-images-idx3-ubyte.gz\n",
      "Extracting MNIST_data/t10k-labels-idx1-ubyte.gz\n",
      "Image Shape: (784,)\n",
      "Training Set:   55000 samples\n",
      "Validation Set: 5000 samples\n",
      "Test Set:       10000 samples\n"
     ]
    }
   ],
   "source": [
    "import tensorflow as tf\n",
    "from tensorflow.examples.tutorials.mnist import input_data\n",
    "mnist = input_data.read_data_sets(\"MNIST_data/\", one_hot=True)\n",
    "X_train, y_train           = mnist.train.images, mnist.train.labels\n",
    "X_validation, y_validation = mnist.validation.images, mnist.validation.labels\n",
    "X_test, y_test             = mnist.test.images, mnist.test.labels\n",
    "print(\"Image Shape: {}\".format(X_train[0].shape))\n",
    "print(\"Training Set:   {} samples\".format(len(X_train)))\n",
    "print(\"Validation Set: {} samples\".format(len(X_validation)))\n",
    "print(\"Test Set:       {} samples\".format(len(X_test)))"
   ]
  },
  {
   "cell_type": "markdown",
   "metadata": {},
   "source": [
    "# Section 1 : My First Model in TensorFlow"
   ]
  },
  {
   "cell_type": "markdown",
   "metadata": {
    "collapsed": true
   },
   "source": [
    "Before starting with CNN, let's train and test in TensorFlow the example :\n",
    "**y=softmax(Wx+b)** seen in the DeepLearing course last week. \n",
    "\n",
    "This model reaches an accuracy of about 92 %.\n",
    "You will also learn how to launch the tensorBoard https://www.tensorflow.org/get_started/summaries_and_tensorboard to  visualize the computation graph, statistics and learning curves. "
   ]
  },
  {
   "cell_type": "markdown",
   "metadata": {},
   "source": [
    "<b> Part 1 </b> : Read carefully the code in the cell below. Run it to perform training. "
   ]
  },
  {
   "cell_type": "code",
   "execution_count": 2,
   "metadata": {
    "scrolled": true
   },
   "outputs": [
    {
     "name": "stdout",
     "output_type": "stream",
     "text": [
      "Epoch:  01   =====> Loss= 1.288867864\n",
      "Epoch:  02   =====> Loss= 0.733035091\n",
      "Epoch:  03   =====> Loss= 0.600288722\n",
      "Epoch:  04   =====> Loss= 0.536401708\n",
      "Epoch:  05   =====> Loss= 0.498107379\n",
      "Epoch:  06   =====> Loss= 0.470978013\n",
      "Epoch:  07   =====> Loss= 0.451188578\n",
      "Epoch:  08   =====> Loss= 0.436120835\n",
      "Epoch:  09   =====> Loss= 0.423948135\n",
      "Epoch:  10   =====> Loss= 0.413557586\n",
      "Epoch:  11   =====> Loss= 0.404378581\n",
      "Epoch:  12   =====> Loss= 0.396322768\n",
      "Epoch:  13   =====> Loss= 0.389684460\n",
      "Epoch:  14   =====> Loss= 0.384512511\n",
      "Epoch:  15   =====> Loss= 0.378820851\n",
      "Epoch:  16   =====> Loss= 0.375883290\n",
      "Epoch:  17   =====> Loss= 0.369544002\n",
      "Epoch:  18   =====> Loss= 0.367543612\n",
      "Epoch:  19   =====> Loss= 0.362105399\n",
      "Epoch:  20   =====> Loss= 0.359983072\n",
      "Epoch:  21   =====> Loss= 0.355285205\n",
      "Epoch:  22   =====> Loss= 0.354059463\n",
      "Epoch:  23   =====> Loss= 0.351495637\n",
      "Epoch:  24   =====> Loss= 0.349211966\n",
      "Epoch:  25   =====> Loss= 0.346712716\n",
      "Epoch:  26   =====> Loss= 0.344755582\n",
      "Epoch:  27   =====> Loss= 0.341206301\n",
      "Epoch:  28   =====> Loss= 0.339361045\n",
      "Epoch:  29   =====> Loss= 0.338260012\n",
      "Epoch:  30   =====> Loss= 0.337416410\n",
      "Epoch:  31   =====> Loss= 0.334402409\n",
      "Epoch:  32   =====> Loss= 0.333537977\n",
      "Epoch:  33   =====> Loss= 0.333487738\n",
      "Epoch:  34   =====> Loss= 0.328756334\n",
      "Epoch:  35   =====> Loss= 0.329146579\n",
      "Epoch:  36   =====> Loss= 0.329469574\n",
      "Epoch:  37   =====> Loss= 0.324617895\n",
      "Epoch:  38   =====> Loss= 0.327903109\n",
      "Epoch:  39   =====> Loss= 0.323044734\n",
      "Epoch:  40   =====> Loss= 0.322069841\n",
      "Epoch:  41   =====> Loss= 0.323246439\n",
      "Epoch:  42   =====> Loss= 0.320546922\n",
      "Epoch:  43   =====> Loss= 0.320894253\n",
      "Epoch:  44   =====> Loss= 0.317948107\n",
      "Epoch:  45   =====> Loss= 0.318080398\n",
      "Epoch:  46   =====> Loss= 0.317362373\n",
      "Epoch:  47   =====> Loss= 0.315915486\n",
      "Epoch:  48   =====> Loss= 0.314671525\n",
      "Epoch:  49   =====> Loss= 0.314684657\n",
      "Epoch:  50   =====> Loss= 0.313388246\n",
      "Epoch:  51   =====> Loss= 0.314307040\n",
      "Epoch:  52   =====> Loss= 0.312222170\n",
      "Epoch:  53   =====> Loss= 0.310096024\n",
      "Epoch:  54   =====> Loss= 0.312088087\n",
      "Epoch:  55   =====> Loss= 0.308844715\n",
      "Epoch:  56   =====> Loss= 0.308079545\n",
      "Epoch:  57   =====> Loss= 0.308560274\n",
      "Epoch:  58   =====> Loss= 0.310012550\n",
      "Epoch:  59   =====> Loss= 0.306122613\n",
      "Epoch:  60   =====> Loss= 0.306868705\n",
      "Epoch:  61   =====> Loss= 0.306243087\n",
      "Epoch:  62   =====> Loss= 0.306501232\n",
      "Epoch:  63   =====> Loss= 0.305206700\n",
      "Epoch:  64   =====> Loss= 0.302598785\n",
      "Epoch:  65   =====> Loss= 0.305579692\n",
      "Epoch:  66   =====> Loss= 0.303031089\n",
      "Epoch:  67   =====> Loss= 0.303351414\n",
      "Epoch:  68   =====> Loss= 0.300520867\n",
      "Epoch:  69   =====> Loss= 0.302340939\n",
      "Epoch:  70   =====> Loss= 0.301012290\n",
      "Epoch:  71   =====> Loss= 0.302096454\n",
      "Epoch:  72   =====> Loss= 0.300137477\n",
      "Epoch:  73   =====> Loss= 0.299579867\n",
      "Epoch:  74   =====> Loss= 0.299648775\n",
      "Epoch:  75   =====> Loss= 0.295524285\n",
      "Epoch:  76   =====> Loss= 0.301395969\n",
      "Epoch:  77   =====> Loss= 0.297791887\n",
      "Epoch:  78   =====> Loss= 0.296151120\n",
      "Epoch:  79   =====> Loss= 0.300151270\n",
      "Epoch:  80   =====> Loss= 0.294682694\n",
      "Epoch:  81   =====> Loss= 0.295737689\n",
      "Epoch:  82   =====> Loss= 0.297138908\n",
      "Epoch:  83   =====> Loss= 0.293139303\n",
      "Epoch:  84   =====> Loss= 0.297382911\n",
      "Epoch:  85   =====> Loss= 0.294834199\n",
      "Epoch:  86   =====> Loss= 0.294794534\n",
      "Epoch:  87   =====> Loss= 0.292691043\n",
      "Epoch:  88   =====> Loss= 0.296119893\n",
      "Epoch:  89   =====> Loss= 0.293497539\n",
      "Epoch:  90   =====> Loss= 0.291858540\n",
      "Epoch:  91   =====> Loss= 0.290854802\n",
      "Epoch:  92   =====> Loss= 0.296087456\n",
      "Epoch:  93   =====> Loss= 0.289536913\n",
      "Epoch:  94   =====> Loss= 0.294090118\n",
      "Epoch:  95   =====> Loss= 0.290013390\n",
      "Epoch:  96   =====> Loss= 0.291925661\n",
      "Epoch:  97   =====> Loss= 0.290943413\n",
      "Epoch:  98   =====> Loss= 0.293690464\n",
      "Epoch:  99   =====> Loss= 0.287999376\n",
      "Epoch:  100   =====> Loss= 0.288455339\n",
      "Optimization Finished!\n",
      "Accuracy: 0.9205\n"
     ]
    }
   ],
   "source": [
    "from __future__ import print_function\n",
    "import tensorflow as tf\n",
    "\n",
    "\n",
    "#STEP 1\n",
    "\n",
    "# Parameters\n",
    "learning_rate = 0.01\n",
    "training_epochs = 100\n",
    "batch_size = 128\n",
    "display_step = 1\n",
    "logs_path = 'log_files/'  # useful for tensorboard\n",
    "\n",
    "# tf Graph Input:  mnist data image of shape 28*28=784\n",
    "x = tf.placeholder(tf.float32, [None, 784], name='InputData')\n",
    "# 0-9 digits recognition,  10 classes\n",
    "y = tf.placeholder(tf.float32, [None, 10], name='LabelData')\n",
    "\n",
    "# Set model weights\n",
    "W = tf.Variable(tf.zeros([784, 10]), name='Weights')\n",
    "b = tf.Variable(tf.zeros([10]), name='Bias')\n",
    "\n",
    "# Construct model and encapsulating all ops into scopes, making Tensorboard's Graph visualization more convenient\n",
    "with tf.name_scope('Model'):\n",
    "    # Model\n",
    "    pred = tf.nn.softmax(tf.matmul(x, W) + b) # Softmax\n",
    "with tf.name_scope('Loss'):\n",
    "    # Minimize error using cross entropy\n",
    "    cost = tf.reduce_mean(-tf.reduce_sum(y*tf.log(pred), reduction_indices=1))\n",
    "with tf.name_scope('SGD'):\n",
    "    # Gradient Descent\n",
    "    optimizer = tf.train.GradientDescentOptimizer(learning_rate).minimize(cost)\n",
    "with tf.name_scope('Accuracy'):\n",
    "    # Accuracy\n",
    "    acc = tf.equal(tf.argmax(pred, 1), tf.argmax(y, 1))\n",
    "    acc = tf.reduce_mean(tf.cast(acc, tf.float32))\n",
    "\n",
    "# Initializing the variables\n",
    "init = tf.global_variables_initializer()\n",
    "# Create a summary to monitor cost tensor\n",
    "tf.summary.scalar(\"Loss\", cost)\n",
    "# Create a summary to monitor accuracy tensor\n",
    "tf.summary.scalar(\"Accuracy\", acc)\n",
    "# Merge all summaries into a single op\n",
    "merged_summary_op = tf.summary.merge_all()\n",
    "\n",
    "\n",
    "#STEP 2 \n",
    "\n",
    "\n",
    "# Launch the graph for training\n",
    "with tf.Session() as sess:\n",
    "    sess.run(init)\n",
    "    # op to write logs to Tensorboard\n",
    "    summary_writer = tf.summary.FileWriter(logs_path, graph=tf.get_default_graph())\n",
    "    # Training cycle\n",
    "    for epoch in range(training_epochs):\n",
    "        avg_cost = 0.\n",
    "        total_batch = int(mnist.train.num_examples/batch_size)\n",
    "        # Loop over all batches\n",
    "        for i in range(total_batch):\n",
    "            batch_xs, batch_ys = mnist.train.next_batch(batch_size)\n",
    "            # Run optimization op (backprop), cost op (to get loss value)\n",
    "            # and summary nodes\n",
    "            _, c, summary = sess.run([optimizer, cost, merged_summary_op],\n",
    "                                     feed_dict={x: batch_xs, y: batch_ys})\n",
    "            # Write logs at every iteration\n",
    "            summary_writer.add_summary(summary, epoch * total_batch + i)\n",
    "            # Compute average loss\n",
    "            avg_cost += c / total_batch\n",
    "        # Display logs per epoch step\n",
    "        if (epoch+1) % display_step == 0:\n",
    "            print(\"Epoch: \", '%02d' % (epoch+1), \"  =====> Loss=\", \"{:.9f}\".format(avg_cost))\n",
    "\n",
    "    print(\"Optimization Finished!\")\n",
    "\n",
    "    # Test model\n",
    "    # Calculate accuracy\n",
    "    print(\"Accuracy:\", acc.eval({x: mnist.test.images, y: mnist.test.labels}))\n",
    "\n",
    "\n"
   ]
  },
  {
   "cell_type": "markdown",
   "metadata": {},
   "source": [
    "<b> Part 2  </b>: Using Tensorboard, we can  now visualize the created graph, giving you an overview of your architecture and how all of the major components  are connected. You can also see and analyse the learning curves. \n",
    "\n",
    "To launch tensorBoard: \n",
    "- Go to the **TP2** folder, \n",
    "- Open a Terminal and run the command line **\"tensorboard --logdir log_files/\"**, it will generate an http link ,ex http://666.6.6.6:6006,\n",
    "- Copy this  link into your web browser \n",
    "\n",
    "\n",
    "Enjoy It !! \n"
   ]
  },
  {
   "cell_type": "markdown",
   "metadata": {},
   "source": [
    "# Section 2 : The 99% MNIST Challenge !"
   ]
  },
  {
   "cell_type": "markdown",
   "metadata": {},
   "source": [
    "<b> Part 1 </b> : LeNet5 implementation"
   ]
  },
  {
   "cell_type": "markdown",
   "metadata": {},
   "source": [
    "One you are now familar with **tensorFlow** and **tensorBoard**, you are in this section to build, train and test the baseline [LeNet-5](http://yann.lecun.com/exdb/lenet/)  model for the MNIST digits recognition problem.  \n",
    "\n",
    "In more advanced step you will make some optimizations to get more than 99% of accuracy. The best model can get to over 99.7% accuracy! \n",
    "\n",
    "For more information, have a look at this list of results : http://rodrigob.github.io/are_we_there_yet/build/classification_datasets_results.html"
   ]
  },
  {
   "cell_type": "markdown",
   "metadata": {},
   "source": [
    "\n",
    "<img src=\"lenet.png\",width=\"800\" height=\"600\" align=\"center\">\n",
    "<center><span>Figure 1: Lenet 5 </span></center>\n",
    "\n",
    "\n",
    "\n",
    "\n",
    "\n",
    "The LeNet architecture accepts a 32x32xC image as input, where C is the number of color channels. Since MNIST images are grayscale, C is 1 in this case.\n",
    "\n",
    "--------------------------\n",
    "**Layer 1: Convolutional.** The output shape should be 28x28x6 **Activation.** sigmoid **Pooling.** The output shape should be 14x14x6.\n",
    "\n",
    "**Layer 2: Convolutional.** The output shape should be 10x10x16. **Activation.** sigmoid **Pooling.** The output shape should be 5x5x16.\n",
    "\n",
    "**Flatten.** Flatten the output shape of the final pooling layer such that it's 1D instead of 3D.  You may need to use **flatten*  from tensorflow.contrib.layers import flatten\n",
    "\n",
    "**Layer 3: Fully Connected.** This should have 120 outputs. **Activation.** sigmoid\n",
    "\n",
    "**Layer 4: Fully Connected.** This should have 84 outputs. **Activation.** sigmoid\n",
    "\n",
    "**Layer 5: Fully Connected.** This should have 10 outputs. **Activation.** softmax\n"
   ]
  },
  {
   "cell_type": "markdown",
   "metadata": {},
   "source": [
    "<b> Question 2.1.1 </b>  Implement the Neural Network architecture described above.\n",
    "For that, your will use classes and functions from  https://www.tensorflow.org/api_docs/python/tf/nn. \n",
    "\n",
    "We give you some helper functions for weigths and bias initilization. Also you can refer to section 1. \n"
   ]
  },
  {
   "cell_type": "code",
   "execution_count": 2,
   "metadata": {
    "collapsed": true
   },
   "outputs": [],
   "source": [
    "#Helper functions  for weigths and bias initilization \n",
    "\n",
    "def weight_variable(shape):\n",
    "  initial = tf.truncated_normal(shape, stddev=0.1)\n",
    "  return tf.Variable(initial)\n",
    "\n",
    "def bias_variable(shape):\n",
    "  initial = tf.constant(0.1, shape=shape)\n",
    "  return tf.Variable(initial)"
   ]
  },
  {
   "cell_type": "code",
   "execution_count": 3,
   "metadata": {
    "collapsed": true
   },
   "outputs": [],
   "source": [
    "def LeNet5_Model(data, a_fun='sigmoid'):    \n",
    "    # --- level 1 --- #\n",
    "    #A 4-D tensor of shape [filter_height, filter_width, in_channels, out_channels]\n",
    "    # in_channels depens on the input img, out_channels is the number of desired filters\n",
    "    filters_conv_1 = weight_variable([5, 5, 1, 6])\n",
    "    window_pool_1 = [1, 2, 2, 1]\n",
    "    strides_conv_1 = [1, 1, 1, 1]\n",
    "    strides_pool_1 = [1, 2, 2, 1]\n",
    "    #the bias term is applied to each feature map\n",
    "    bias_layer_1 = bias_variable([6])\n",
    "    #we use SAME as padding because we want to keep the size of the original img 28x28,\n",
    "    #NOT 32x32 as expected\n",
    "    conv_layer_1 = tf.nn.conv2d(data, filters_conv_1, strides_conv_1, \"SAME\")\n",
    "    if a_fun=='relu':\n",
    "        hidden_layer_1 = tf.nn.relu(conv_layer_1 + bias_layer_1)\n",
    "    else:\n",
    "        hidden_layer_1 = tf.nn.sigmoid(conv_layer_1 + bias_layer_1)\n",
    "    pool_layer_1 = tf.nn.max_pool(hidden_layer_1, window_pool_1, strides_pool_1, \"VALID\")\n",
    "    \n",
    "    # --- end level 1 --- #\n",
    "    # --- level 2 --- #\n",
    "    filters_conv_2 = weight_variable([5, 5, 6, 16])\n",
    "    bias_layer_2 = bias_variable([16])\n",
    "    strides_conv_2 = [1, 1, 1, 1]\n",
    "    strides_pool_2 = [1, 2, 2, 1]\n",
    "    window_pool_2 = [1, 2, 2, 1]\n",
    "    strides_pool_2 = [1, 2, 2, 1]\n",
    "    \n",
    "    conv_layer_2 = tf.nn.conv2d(pool_layer_1, filters_conv_2, strides_conv_2, \"VALID\")\n",
    "    if a_fun=='relu':\n",
    "        hidden_layer_2 = tf.nn.relu(conv_layer_2 + bias_layer_2)\n",
    "    else:\n",
    "        hidden_layer_2 = tf.nn.sigmoid(conv_layer_2 + bias_layer_2)\n",
    "    pool_layer_2 = tf.nn.max_pool(hidden_layer_2, window_pool_2, strides_pool_2, \"VALID\")\n",
    "    flatten_l2 = tf.contrib.layers.flatten(pool_layer_2)\n",
    "    # --- end level 2 --- #\n",
    "\n",
    "    # --- level 3 --- #\n",
    "    l3_weights = weight_variable([16*5*5, 120])\n",
    "    l3_bias = bias_variable([120])\n",
    "    if a_fun=='relu'\n",
    "        hidden_layer_3 = tf.nn.relu(tf.matmul(flatten_l2, l3_weights) + l3_bias)\n",
    "    else:\n",
    "        hidden_layer_3 = tf.nn.sigmoid(tf.matmul(flatten_l2, l3_weights) + l3_bias)     \n",
    "    # --- end level 3 --- #\n",
    "    \n",
    "    # --- level 4 --- #\n",
    "    l4_weights = weight_variable([120,84])\n",
    "    l4_bias = bias_variable([84])\n",
    "    if a_fun=='relu':\n",
    "        hidden_layer_4 = tf.nn.relu(tf.matmul(hidden_layer_3, l4_weights) + l4_bias) \n",
    "    else:\n",
    "        hidden_layer_4 = tf.nn.sigmoid(tf.matmul(hidden_layer_3, l4_weights) + l4_bias) \n",
    "    # --- end level 4 --- #\n",
    "    \n",
    "    # --- level 5 --- #\n",
    "    l5_weights = weight_variable([84, 10])\n",
    "    l5_bias = bias_variable([10])\n",
    "    output = tf.nn.softmax(tf.matmul(hidden_layer_4, l5_weights) + l5_bias)\n",
    "    # output = tf.matmul(hidden_layer_4, l5_weights) + l5_bias\n",
    "    # --- end level 5 --- #\n",
    "    return output\n"
   ]
  },
  {
   "cell_type": "markdown",
   "metadata": {},
   "source": [
    "<b> Question 2.1.2. </b>  Calculate the number of parameters of this model "
   ]
  },
  {
   "cell_type": "code",
   "execution_count": 4,
   "metadata": {},
   "outputs": [
    {
     "name": "stdout",
     "output_type": "stream",
     "text": [
      "Total number of parameters : 59706\n"
     ]
    }
   ],
   "source": [
    "layer_1 = 6*5*5 + 6\n",
    "layer_2 = 16*5*5 + 16\n",
    "layer_3 = 16*5*5*120 + 120\n",
    "layer_4 = 120*84 + 84\n",
    "layer_5 = 84*10 + 10\n",
    "\n",
    "total = layer_1 + layer_2 + layer_3 + layer_4 + layer_5\n",
    "print(\"Total number of parameters : %d\" %total)"
   ]
  },
  {
   "cell_type": "markdown",
   "metadata": {},
   "source": [
    "<b> Question 2.1.3. </b>  Start the training with the parameters cited below:\n",
    "\n",
    "     Learning rate = 0.1\n",
    "     Loss function : Cross entropy\n",
    "     Optimisateur: SGD\n",
    "     Number of training iterations = 10000\n",
    "     The batch size = 128"
   ]
  },
  {
   "cell_type": "code",
   "execution_count": 5,
   "metadata": {
    "collapsed": true,
    "scrolled": false
   },
   "outputs": [],
   "source": [
    "# Training parameters \n",
    "learning_rate = 0.1\n",
    "iterations = 10000\n",
    "batch_size = 128\n",
    "logs_path = 'log_files_leNet5/'\n",
    "#Your implementation goes here\n",
    "# tf Graph Input:  mnist data image of shape 28*28=784\n",
    "x = tf.placeholder(tf.float32, [None, 28, 28, 1], name='InputData')\n",
    "# 0-9 digits recognition,  10 classes\n",
    "y = tf.placeholder(tf.float32, [None, 10], name='LabelData')"
   ]
  },
  {
   "cell_type": "markdown",
   "metadata": {},
   "source": [
    "<b> Question 2.1.4. </b>  Implement the evaluation function for accuracy computation "
   ]
  },
  {
   "cell_type": "code",
   "execution_count": 11,
   "metadata": {
    "collapsed": true
   },
   "outputs": [],
   "source": [
    "def evaluate(model, y):\n",
    "    #your implementation goes here\n",
    "    \n",
    "    # NO IDEA WHAT HE WANTS HERE\n",
    "    return (100.0 * np.sum(np.argmax(predictions, 1) == np.argmax(labels, 1))\n",
    "          / predictions.shape[0])\n",
    "    return accuracy"
   ]
  },
  {
   "cell_type": "markdown",
   "metadata": {},
   "source": [
    "<b> Question 2.1.5. </b>  Implement training pipeline and run the training data through it to train the model.\n",
    "\n",
    "- Before each epoch, shuffle the training set. \n",
    "- Print the loss per mini batch and the training/validation accuracy per epoch. (Display results every 100 epochs)\n",
    "- Save the model after training\n",
    "- Print after training the final testing accuracy \n",
    "\n"
   ]
  },
  {
   "cell_type": "code",
   "execution_count": 6,
   "metadata": {
    "scrolled": false
   },
   "outputs": [
    {
     "name": "stdout",
     "output_type": "stream",
     "text": [
      "Start Training!\n",
      "Epoch:  429   =====> Loss= 0.026430286\n",
      "Epoch:  100   =====> Validation accuracy= 0.988399982\n",
      "Epoch:  429   =====> Loss= 0.009879764\n",
      "Epoch:  200   =====> Validation accuracy= 0.990599990\n",
      "Reached validation accuracy > 99%, stopping training\n",
      "Accuracy: 0.99\n",
      "Optimization Finished!\n",
      "Training Finished!\n"
     ]
    }
   ],
   "source": [
    "# Initializing the variables\n",
    "def train(out_dir, optimizer='GradientDescent', display_step=100, activation='sigmoid'):\n",
    "    \n",
    "    # Initializing the session\n",
    "    optimizers = {'GradientDescent': tf.train.GradientDescentOptimizer,\n",
    "                 'AdamOptimizer': tf.train.AdamOptimizer}\n",
    "    \n",
    "    # Construct model and encapsulating all ops into scopes, making Tensorboard's Graph visualization more convenient\n",
    "    with tf.name_scope('Model'):\n",
    "    # Model\n",
    "        pred = LeNet5_Model(x, activation)\n",
    "    with tf.name_scope('Loss'):\n",
    "    # Minimize error using cross entropy\n",
    "        #cost = tf.reduce_mean(tf.nn.softmax_cross_entropy_with_logits(logits=pred, labels=y))\n",
    "        cost = tf.reduce_mean(-tf.reduce_sum(y*tf.log(pred), reduction_indices=1))\n",
    "    with tf.name_scope('SGD'):\n",
    "    # Gradient Descent\n",
    "        # optimizer = tf.train.GradientDescentOptimizer(learning_rate).minimize(cost)\n",
    "        optimizer = optimizers[optimizer](learning_rate).minimize(cost)\n",
    "    with tf.name_scope('Accuracy'):\n",
    "    # Accuracy\n",
    "        acc = tf.equal(tf.argmax(pred, 1), tf.argmax(y, 1))\n",
    "        acc = tf.reduce_mean(tf.cast(acc, tf.float32))\n",
    "    \n",
    "    \n",
    "    saver = tf.train.Saver()\n",
    "    # Initializing the variables\n",
    "    init = tf.global_variables_initializer()\n",
    "    # Create a summary to monitor cost tensor\n",
    "    tf.summary.scalar(\"Loss\", cost)\n",
    "    # Create a summary to monitor accuracy tensor\n",
    "    tf.summary.scalar(\"Accuracy\", acc)\n",
    "    # Merge all summaries into a single op\n",
    "    merged_summary_op = tf.summary.merge_all()\n",
    "\n",
    "    x_val, y_val = mnist.validation.images.reshape(-1, 28, 28, 1), mnist.validation.labels\n",
    "    \n",
    "    with tf.Session() as sess:\n",
    "        sess.run(init)\n",
    "        summary_writer = tf.summary.FileWriter(logs_path, graph=tf.get_default_graph())\n",
    "        print (\"Start Training!\")\n",
    "        for epoch in range(iterations):\n",
    "            avg_cost = 0.\n",
    "            num_batch = int(mnist.train.num_examples/batch_size)\n",
    "            for i in range(num_batch):\n",
    "                # shuffle = True is the default option, the shuffle is done at each epoch\n",
    "                batch_xs, batch_ys = mnist.train.next_batch(batch_size, shuffle=True)\n",
    "                batch_xs = batch_xs.reshape(-1, 28, 28, 1)\n",
    "\n",
    "                    _, c, summary = sess.run([optimizer, cost, merged_summary_op],\n",
    "                                         feed_dict={x: batch_xs, y: batch_ys})\n",
    "                # Write logs at every iteration\n",
    "                summary_writer.add_summary(summary, epoch * num_batch + i)\n",
    "                avg_cost += c / num_batch\n",
    "                    \n",
    "            if (epoch+1) % display_step == 0:\n",
    "                accuracy = acc.eval({x: x_val, y: y_val})\n",
    "                print(\"Epoch: \", '%02d' % (i+1), \"  =====> Loss=\", \"{:.9f}\".format(avg_cost))\n",
    "                print(\"Epoch: \", '%02d' % (epoch+1), \"  =====> Validation accuracy=\", \n",
    "                                              \"{:.9f}\".format(accuracy))\n",
    "                if accuracy > 0.99:\n",
    "                    print(\"[EPOCH %d] Reached validation accuracy > 99% , stopping training\", (epoch+1))\n",
    "                    break\n",
    "\n",
    "        x_test = mnist.test.images.reshape(-1, 28, 28, 1)\n",
    "        y_test = mnist.test.labels\n",
    "        print(\"Accuracy:\", acc.eval({x: x_test, y: y_test}))\n",
    "        saver.save(sess, out_dir)\n",
    "    print(\"Optimization Finished!\")\n",
    "    print(\"Training Finished!\")\n",
    "    \n",
    "   #Your implementation for testing accuracy after training goes here"
   ]
  },
  {
   "cell_type": "code",
   "execution_count": null,
   "metadata": {
    "collapsed": true
   },
   "outputs": [],
   "source": [
    "# trainining with first configuration\n",
    "train('./models/lenet5_sgd')\n",
    "# training with AdamOptimizer\n",
    "train('./models/lenet5_adam', optimizer='AdamOptimizer')"
   ]
  },
  {
   "cell_type": "markdown",
   "metadata": {},
   "source": [
    "<b> Question 2.1.6 </b> : Use tensorBoard to visualise and save the LeNet5 Graph and all learning curves. \n",
    "Save all obtained figures in the folder **\"TP2/MNIST_99_Challenge_Figures\"**"
   ]
  },
  {
   "cell_type": "code",
   "execution_count": null,
   "metadata": {
    "collapsed": true
   },
   "outputs": [],
   "source": [
    "#  insert your obtained figure here "
   ]
  },
  {
   "cell_type": "code",
   "execution_count": null,
   "metadata": {
    "collapsed": true
   },
   "outputs": [],
   "source": [
    "# your answer goes here"
   ]
  },
  {
   "cell_type": "markdown",
   "metadata": {},
   "source": [
    "<b> Part 2 </b> : LeNET 5 Optimization"
   ]
  },
  {
   "cell_type": "markdown",
   "metadata": {},
   "source": [
    "\n",
    "<b> Question 2.2.1 </b>  Change the sigmoid function with a Relu :\n",
    "\n",
    "- Retrain your network with SGD and AdamOptimizer and then fill the table above  :\n",
    "\n",
    "\n",
    "| Optimizer            |  Gradient Descent         |AdamOptimizer |\n",
    "| -------------        |: -------------: | ---------:   \n",
    "| Validation Accuracy  |         |    |      \n",
    "| Testing Accuracy     |           |    |       \n",
    "| Training Time        |           |        |  |  \n",
    "\n",
    "\n",
    "- Try with different learning rates for each Optimizer (0.0001 and 0.001 ) and different Batch sizes (50 and 128) for 20000 Epochs. \n",
    "\n",
    "- For each optimizer, plot (on the same curve) the **testing accuracies** function to **(learning rate, batch size)** \n",
    "\n",
    "\n",
    "\n",
    "- Did you reach the 99% accuracy ? What are the optimal parametres that gave you the best results? \n",
    "\n",
    "\n",
    "\n",
    "\n",
    "\n",
    "\n"
   ]
  },
  {
   "cell_type": "code",
   "execution_count": null,
   "metadata": {
    "collapsed": true
   },
   "outputs": [],
   "source": [
    "# your answer goes here\n",
    "iterations = 10000\n",
    "for lr in [0.0001, 0.001]:\n",
    "    learning_rate = lr\n",
    "    for bs in [50, 128]:\n",
    "        batch_size = bs\n",
    "        train('./models/lenet5_sgd_' + str(bs) + '_' + str(lr))\n",
    "        train('./models/lenet5_adam_' + str(bs) + '_' + str(lr), optimizer='AdamOptimizer')"
   ]
  },
  {
   "cell_type": "markdown",
   "metadata": {},
   "source": [
    "<b> Question 2.2.2 </b>  What about applying a dropout layer on the Fully conntected layer and then retraining the model with the best Optimizer and parameters(Learning rate and Batsh size) obtained in *Question 2.2.1*  ? (probability to keep units=0.75). For this stage ensure that the keep prob is set to 1.0 to evaluate the \n",
    "performance of the network including all nodes."
   ]
  },
  {
   "cell_type": "code",
   "execution_count": null,
   "metadata": {
    "collapsed": true
   },
   "outputs": [],
   "source": [
    "# your implementaion goes here"
   ]
  },
  {
   "cell_type": "code",
   "execution_count": null,
   "metadata": {
    "collapsed": true
   },
   "outputs": [],
   "source": [
    "#Your comments go here"
   ]
  }
 ],
 "metadata": {
  "anaconda-cloud": {},
  "kernelspec": {
   "display_name": "Python 3",
   "language": "python",
   "name": "python3"
  },
  "language_info": {
   "codemirror_mode": {
    "name": "ipython",
    "version": 3
   },
   "file_extension": ".py",
   "mimetype": "text/x-python",
   "name": "python",
   "nbconvert_exporter": "python",
   "pygments_lexer": "ipython3",
   "version": "3.5.2"
  },
  "widgets": {
   "state": {},
   "version": "1.1.2"
  }
 },
 "nbformat": 4,
 "nbformat_minor": 1
}
