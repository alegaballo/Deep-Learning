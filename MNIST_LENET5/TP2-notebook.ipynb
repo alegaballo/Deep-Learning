{
 "cells": [
  {
   "cell_type": "markdown",
   "metadata": {
    "deletable": true,
    "editable": true
   },
   "source": [
    "<h1 style=\"text-align:center\">Deep Learning   </h1>\n",
    "<h1 style=\"text-align:center\"> Lab Session 2 - 3 Hours </h1>\n",
    "<h1 style=\"text-align:center\"> Convolutional Neural Network (CNN) for Handwritten Digits Recognition</h1>"
   ]
  },
  {
   "cell_type": "markdown",
   "metadata": {
    "deletable": true,
    "editable": true
   },
   "source": [
    "<b> Student 1:</b> # Gaballo Alessandro\n",
    "<b> Student 2:</b> # Wacker Jonas\n",
    " \n",
    " \n",
    "The aim of this session is to practice with Convolutional Neural Networks. Answers and experiments should be made by groups of one or two students. Each group should fill and run appropriate notebook cells. \n",
    "\n",
    "\n",
    "Once you have completed all of the code implementations and successfully answered each question above, you may finalize your work by exporting the iPython Notebook as an pdf document using print as PDF (Ctrl+P). Do not forget to run all your cells before generating your final report and do not forget to include the names of all participants in the group. The lab session should be completed by May 29th 2017.\n",
    "\n",
    "Send you pdf file to benoit.huet@eurecom.fr and olfa.ben-ahmed@eurecom.fr using **[DeepLearning_lab2]** as Subject of your email."
   ]
  },
  {
   "cell_type": "markdown",
   "metadata": {
    "deletable": true,
    "editable": true
   },
   "source": [
    "# Introduction"
   ]
  },
  {
   "cell_type": "markdown",
   "metadata": {
    "deletable": true,
    "editable": true
   },
   "source": [
    "In the last Lab Session, you built a Multilayer Perceptron for recognizing hand-written digits from the MNIST data-set. The best achieved accuracy on testing data was about 97%.  Can  you do better than these results using a deep CNN ?\n",
    "In this Lab Session, you will build, train and optimize in TensorFlow one of the early Convolutional Neural Networks:  **LeNet-5** to go to  more than 99% of accuracy. \n",
    "\n",
    "\n",
    "\n",
    "\n"
   ]
  },
  {
   "cell_type": "markdown",
   "metadata": {
    "deletable": true,
    "editable": true
   },
   "source": [
    "# Load MNIST Data in TensorFlow\n",
    "Run the cell above to load the MNIST data that comes  with TensorFlow. You will use this data in **Section 1** and **Section 2**."
   ]
  },
  {
   "cell_type": "code",
   "execution_count": 14,
   "metadata": {
    "collapsed": false,
    "deletable": true,
    "editable": true
   },
   "outputs": [
    {
     "name": "stdout",
     "output_type": "stream",
     "text": [
      "Extracting MNIST_data/train-images-idx3-ubyte.gz\n",
      "Extracting MNIST_data/train-labels-idx1-ubyte.gz\n",
      "Extracting MNIST_data/t10k-images-idx3-ubyte.gz\n",
      "Extracting MNIST_data/t10k-labels-idx1-ubyte.gz\n",
      "Image Shape: (784,)\n",
      "Training Set:   55000 samples\n",
      "Validation Set: 5000 samples\n",
      "Test Set:       10000 samples\n"
     ]
    }
   ],
   "source": [
    "import tensorflow as tf\n",
    "from tensorflow.examples.tutorials.mnist import input_data\n",
    "mnist = input_data.read_data_sets(\"MNIST_data/\", one_hot=True)\n",
    "X_train, y_train           = mnist.train.images, mnist.train.labels\n",
    "X_validation, y_validation = mnist.validation.images, mnist.validation.labels\n",
    "X_test, y_test             = mnist.test.images, mnist.test.labels\n",
    "print(\"Image Shape: {}\".format(X_train[0].shape))\n",
    "print(\"Training Set:   {} samples\".format(len(X_train)))\n",
    "print(\"Validation Set: {} samples\".format(len(X_validation)))\n",
    "print(\"Test Set:       {} samples\".format(len(X_test)))"
   ]
  },
  {
   "cell_type": "markdown",
   "metadata": {
    "deletable": true,
    "editable": true
   },
   "source": [
    "# Section 1 : My First Model in TensorFlow"
   ]
  },
  {
   "cell_type": "markdown",
   "metadata": {
    "collapsed": true,
    "deletable": true,
    "editable": true
   },
   "source": [
    "Before starting with CNN, let's train and test in TensorFlow the example :\n",
    "**y=softmax(Wx+b)** seen in the DeepLearing course last week. \n",
    "\n",
    "This model reaches an accuracy of about 92 %.\n",
    "You will also learn how to launch the tensorBoard https://www.tensorflow.org/get_started/summaries_and_tensorboard to  visualize the computation graph, statistics and learning curves. "
   ]
  },
  {
   "cell_type": "markdown",
   "metadata": {
    "deletable": true,
    "editable": true
   },
   "source": [
    "<b> Part 1 </b> : Read carefully the code in the cell below. Run it to perform training. "
   ]
  },
  {
   "cell_type": "code",
   "execution_count": 2,
   "metadata": {
    "collapsed": false,
    "deletable": true,
    "editable": true,
    "scrolled": true
   },
   "outputs": [
    {
     "name": "stdout",
     "output_type": "stream",
     "text": [
      "Epoch:  01   =====> Loss= 1.288867864\n",
      "Epoch:  02   =====> Loss= 0.733035091\n",
      "Epoch:  03   =====> Loss= 0.600288722\n",
      "Epoch:  04   =====> Loss= 0.536401708\n",
      "Epoch:  05   =====> Loss= 0.498107379\n",
      "Epoch:  06   =====> Loss= 0.470978013\n",
      "Epoch:  07   =====> Loss= 0.451188578\n",
      "Epoch:  08   =====> Loss= 0.436120835\n",
      "Epoch:  09   =====> Loss= 0.423948135\n",
      "Epoch:  10   =====> Loss= 0.413557586\n",
      "Epoch:  11   =====> Loss= 0.404378581\n",
      "Epoch:  12   =====> Loss= 0.396322768\n",
      "Epoch:  13   =====> Loss= 0.389684460\n",
      "Epoch:  14   =====> Loss= 0.384512511\n",
      "Epoch:  15   =====> Loss= 0.378820851\n",
      "Epoch:  16   =====> Loss= 0.375883290\n",
      "Epoch:  17   =====> Loss= 0.369544002\n",
      "Epoch:  18   =====> Loss= 0.367543612\n",
      "Epoch:  19   =====> Loss= 0.362105399\n",
      "Epoch:  20   =====> Loss= 0.359983072\n",
      "Epoch:  21   =====> Loss= 0.355285205\n",
      "Epoch:  22   =====> Loss= 0.354059463\n",
      "Epoch:  23   =====> Loss= 0.351495637\n",
      "Epoch:  24   =====> Loss= 0.349211966\n",
      "Epoch:  25   =====> Loss= 0.346712716\n",
      "Epoch:  26   =====> Loss= 0.344755582\n",
      "Epoch:  27   =====> Loss= 0.341206301\n",
      "Epoch:  28   =====> Loss= 0.339361045\n",
      "Epoch:  29   =====> Loss= 0.338260012\n",
      "Epoch:  30   =====> Loss= 0.337416410\n",
      "Epoch:  31   =====> Loss= 0.334402409\n",
      "Epoch:  32   =====> Loss= 0.333537977\n",
      "Epoch:  33   =====> Loss= 0.333487738\n",
      "Epoch:  34   =====> Loss= 0.328756334\n",
      "Epoch:  35   =====> Loss= 0.329146579\n",
      "Epoch:  36   =====> Loss= 0.329469574\n",
      "Epoch:  37   =====> Loss= 0.324617895\n",
      "Epoch:  38   =====> Loss= 0.327903109\n",
      "Epoch:  39   =====> Loss= 0.323044734\n",
      "Epoch:  40   =====> Loss= 0.322069841\n",
      "Epoch:  41   =====> Loss= 0.323246439\n",
      "Epoch:  42   =====> Loss= 0.320546922\n",
      "Epoch:  43   =====> Loss= 0.320894253\n",
      "Epoch:  44   =====> Loss= 0.317948107\n",
      "Epoch:  45   =====> Loss= 0.318080398\n",
      "Epoch:  46   =====> Loss= 0.317362373\n",
      "Epoch:  47   =====> Loss= 0.315915486\n",
      "Epoch:  48   =====> Loss= 0.314671525\n",
      "Epoch:  49   =====> Loss= 0.314684657\n",
      "Epoch:  50   =====> Loss= 0.313388246\n",
      "Epoch:  51   =====> Loss= 0.314307040\n",
      "Epoch:  52   =====> Loss= 0.312222170\n",
      "Epoch:  53   =====> Loss= 0.310096024\n",
      "Epoch:  54   =====> Loss= 0.312088087\n",
      "Epoch:  55   =====> Loss= 0.308844715\n",
      "Epoch:  56   =====> Loss= 0.308079545\n",
      "Epoch:  57   =====> Loss= 0.308560274\n",
      "Epoch:  58   =====> Loss= 0.310012550\n",
      "Epoch:  59   =====> Loss= 0.306122613\n",
      "Epoch:  60   =====> Loss= 0.306868705\n",
      "Epoch:  61   =====> Loss= 0.306243087\n",
      "Epoch:  62   =====> Loss= 0.306501232\n",
      "Epoch:  63   =====> Loss= 0.305206700\n",
      "Epoch:  64   =====> Loss= 0.302598785\n",
      "Epoch:  65   =====> Loss= 0.305579692\n",
      "Epoch:  66   =====> Loss= 0.303031089\n",
      "Epoch:  67   =====> Loss= 0.303351414\n",
      "Epoch:  68   =====> Loss= 0.300520867\n",
      "Epoch:  69   =====> Loss= 0.302340939\n",
      "Epoch:  70   =====> Loss= 0.301012290\n",
      "Epoch:  71   =====> Loss= 0.302096454\n",
      "Epoch:  72   =====> Loss= 0.300137477\n",
      "Epoch:  73   =====> Loss= 0.299579867\n",
      "Epoch:  74   =====> Loss= 0.299648775\n",
      "Epoch:  75   =====> Loss= 0.295524285\n",
      "Epoch:  76   =====> Loss= 0.301395969\n",
      "Epoch:  77   =====> Loss= 0.297791887\n",
      "Epoch:  78   =====> Loss= 0.296151120\n",
      "Epoch:  79   =====> Loss= 0.300151270\n",
      "Epoch:  80   =====> Loss= 0.294682694\n",
      "Epoch:  81   =====> Loss= 0.295737689\n",
      "Epoch:  82   =====> Loss= 0.297138908\n",
      "Epoch:  83   =====> Loss= 0.293139303\n",
      "Epoch:  84   =====> Loss= 0.297382911\n",
      "Epoch:  85   =====> Loss= 0.294834199\n",
      "Epoch:  86   =====> Loss= 0.294794534\n",
      "Epoch:  87   =====> Loss= 0.292691043\n",
      "Epoch:  88   =====> Loss= 0.296119893\n",
      "Epoch:  89   =====> Loss= 0.293497539\n",
      "Epoch:  90   =====> Loss= 0.291858540\n",
      "Epoch:  91   =====> Loss= 0.290854802\n",
      "Epoch:  92   =====> Loss= 0.296087456\n",
      "Epoch:  93   =====> Loss= 0.289536913\n",
      "Epoch:  94   =====> Loss= 0.294090118\n",
      "Epoch:  95   =====> Loss= 0.290013390\n",
      "Epoch:  96   =====> Loss= 0.291925661\n",
      "Epoch:  97   =====> Loss= 0.290943413\n",
      "Epoch:  98   =====> Loss= 0.293690464\n",
      "Epoch:  99   =====> Loss= 0.287999376\n",
      "Epoch:  100   =====> Loss= 0.288455339\n",
      "Optimization Finished!\n",
      "Accuracy: 0.9205\n"
     ]
    }
   ],
   "source": [
    "from __future__ import print_function\n",
    "import tensorflow as tf\n",
    "\n",
    "\n",
    "#STEP 1\n",
    "\n",
    "# Parameters\n",
    "learning_rate = 0.01\n",
    "training_epochs = 100\n",
    "batch_size = 128\n",
    "display_step = 1\n",
    "logs_path = 'log_files/'  # useful for tensorboard\n",
    "\n",
    "# tf Graph Input:  mnist data image of shape 28*28=784\n",
    "x = tf.placeholder(tf.float32, [None, 784], name='InputData')\n",
    "# 0-9 digits recognition,  10 classes\n",
    "y = tf.placeholder(tf.float32, [None, 10], name='LabelData')\n",
    "\n",
    "# Set model weights\n",
    "W = tf.Variable(tf.zeros([784, 10]), name='Weights')\n",
    "b = tf.Variable(tf.zeros([10]), name='Bias')\n",
    "\n",
    "# Construct model and encapsulating all ops into scopes, making Tensorboard's Graph visualization more convenient\n",
    "with tf.name_scope('Model'):\n",
    "    # Model\n",
    "    pred = tf.nn.softmax(tf.matmul(x, W) + b) # Softmax\n",
    "with tf.name_scope('Loss'):\n",
    "    # Minimize error using cross entropy\n",
    "    cost = tf.reduce_mean(-tf.reduce_sum(y*tf.log(pred), reduction_indices=1))\n",
    "with tf.name_scope('SGD'):\n",
    "    # Gradient Descent\n",
    "    optimizer = tf.train.GradientDescentOptimizer(learning_rate).minimize(cost)\n",
    "with tf.name_scope('Accuracy'):\n",
    "    # Accuracy\n",
    "    acc = tf.equal(tf.argmax(pred, 1), tf.argmax(y, 1))\n",
    "    acc = tf.reduce_mean(tf.cast(acc, tf.float32))\n",
    "\n",
    "# Initializing the variables\n",
    "init = tf.global_variables_initializer()\n",
    "# Create a summary to monitor cost tensor\n",
    "tf.summary.scalar(\"Loss\", cost)\n",
    "# Create a summary to monitor accuracy tensor\n",
    "tf.summary.scalar(\"Accuracy\", acc)\n",
    "# Merge all summaries into a single op\n",
    "merged_summary_op = tf.summary.merge_all()\n",
    "\n",
    "\n",
    "#STEP 2 \n",
    "\n",
    "\n",
    "# Launch the graph for training\n",
    "with tf.Session() as sess:\n",
    "    sess.run(init)\n",
    "    # op to write logs to Tensorboard\n",
    "    summary_writer = tf.summary.FileWriter(logs_path, graph=tf.get_default_graph())\n",
    "    # Training cycle\n",
    "    for epoch in range(training_epochs):\n",
    "        avg_cost = 0.\n",
    "        total_batch = int(mnist.train.num_examples/batch_size)\n",
    "        # Loop over all batches\n",
    "        for i in range(total_batch):\n",
    "            batch_xs, batch_ys = mnist.train.next_batch(batch_size)\n",
    "            # Run optimization op (backprop), cost op (to get loss value)\n",
    "            # and summary nodes\n",
    "            _, c, summary = sess.run([optimizer, cost, merged_summary_op],\n",
    "                                     feed_dict={x: batch_xs, y: batch_ys})\n",
    "            # Write logs at every iteration\n",
    "            summary_writer.add_summary(summary, epoch * total_batch + i)\n",
    "            # Compute average loss\n",
    "            avg_cost += c / total_batch\n",
    "        # Display logs per epoch step\n",
    "        if (epoch+1) % display_step == 0:\n",
    "            print(\"Epoch: \", '%02d' % (epoch+1), \"  =====> Loss=\", \"{:.9f}\".format(avg_cost))\n",
    "\n",
    "    print(\"Optimization Finished!\")\n",
    "\n",
    "    # Test model\n",
    "    # Calculate accuracy\n",
    "    print(\"Accuracy:\", acc.eval({x: mnist.test.images, y: mnist.test.labels}))\n",
    "\n",
    "\n"
   ]
  },
  {
   "cell_type": "markdown",
   "metadata": {
    "deletable": true,
    "editable": true
   },
   "source": [
    "<b> Part 2  </b>: Using Tensorboard, we can  now visualize the created graph, giving you an overview of your architecture and how all of the major components  are connected. You can also see and analyse the learning curves. \n",
    "\n",
    "To launch tensorBoard: \n",
    "- Go to the **TP2** folder, \n",
    "- Open a Terminal and run the command line **\"tensorboard --logdir log_files/\"**, it will generate an http link ,ex http://666.6.6.6:6006,\n",
    "- Copy this  link into your web browser \n",
    "\n",
    "\n",
    "Enjoy It !! \n"
   ]
  },
  {
   "cell_type": "markdown",
   "metadata": {
    "deletable": true,
    "editable": true
   },
   "source": [
    "# Section 2 : The 99% MNIST Challenge !"
   ]
  },
  {
   "cell_type": "markdown",
   "metadata": {
    "deletable": true,
    "editable": true
   },
   "source": [
    "<b> Part 1 </b> : LeNet5 implementation"
   ]
  },
  {
   "cell_type": "markdown",
   "metadata": {
    "deletable": true,
    "editable": true
   },
   "source": [
    "One you are now familar with **tensorFlow** and **tensorBoard**, you are in this section to build, train and test the baseline [LeNet-5](http://yann.lecun.com/exdb/lenet/)  model for the MNIST digits recognition problem.  \n",
    "\n",
    "In more advanced step you will make some optimizations to get more than 99% of accuracy. The best model can get to over 99.7% accuracy! \n",
    "\n",
    "For more information, have a look at this list of results : http://rodrigob.github.io/are_we_there_yet/build/classification_datasets_results.html"
   ]
  },
  {
   "cell_type": "markdown",
   "metadata": {
    "deletable": true,
    "editable": true
   },
   "source": [
    "\n",
    "<img src=\"lenet.png\",width=\"800\" height=\"600\" align=\"center\">\n",
    "<center><span>Figure 1: Lenet 5 </span></center>\n",
    "\n",
    "\n",
    "\n",
    "\n",
    "\n",
    "The LeNet architecture accepts a 32x32xC image as input, where C is the number of color channels. Since MNIST images are grayscale, C is 1 in this case.\n",
    "\n",
    "--------------------------\n",
    "**Layer 1: Convolutional.** The output shape should be 28x28x6 **Activation.** sigmoid **Pooling.** The output shape should be 14x14x6.\n",
    "\n",
    "**Layer 2: Convolutional.** The output shape should be 10x10x16. **Activation.** sigmoid **Pooling.** The output shape should be 5x5x16.\n",
    "\n",
    "**Flatten.** Flatten the output shape of the final pooling layer such that it's 1D instead of 3D.  You may need to use **flatten*  from tensorflow.contrib.layers import flatten\n",
    "\n",
    "**Layer 3: Fully Connected.** This should have 120 outputs. **Activation.** sigmoid\n",
    "\n",
    "**Layer 4: Fully Connected.** This should have 84 outputs. **Activation.** sigmoid\n",
    "\n",
    "**Layer 5: Fully Connected.** This should have 10 outputs. **Activation.** softmax\n"
   ]
  },
  {
   "cell_type": "markdown",
   "metadata": {
    "deletable": true,
    "editable": true
   },
   "source": [
    "<b> Question 2.1.1 </b>  Implement the Neural Network architecture described above.\n",
    "For that, your will use classes and functions from  https://www.tensorflow.org/api_docs/python/tf/nn. \n",
    "\n",
    "We give you some helper functions for weigths and bias initilization. Also you can refer to section 1. \n"
   ]
  },
  {
   "cell_type": "code",
   "execution_count": 15,
   "metadata": {
    "collapsed": true,
    "deletable": true,
    "editable": true
   },
   "outputs": [],
   "source": [
    "#Helper functions  for weigths and bias initilization \n",
    "\n",
    "def weight_variable(shape):\n",
    "  initial = tf.truncated_normal(shape, stddev=0.1)\n",
    "  return tf.Variable(initial)\n",
    "\n",
    "def bias_variable(shape):\n",
    "  initial = tf.constant(0.1, shape=shape)\n",
    "  return tf.Variable(initial)"
   ]
  },
  {
   "cell_type": "code",
   "execution_count": null,
   "metadata": {
    "collapsed": true,
    "deletable": true,
    "editable": true
   },
   "outputs": [],
   "source": [
    "def LeNet5_Model(data, activation='sigmoid', dropout=False):    \n",
    "    # --- level 1 --- #\n",
    "    #A 4-D tensor of shape [filter_height, filter_width, in_channels, out_channels]\n",
    "    # in_channels depens on the input img, out_channels is the number of desired filters\n",
    "    filters_conv_1 = weight_variable([5, 5, 1, 6])\n",
    "    window_pool_1 = [1, 2, 2, 1]\n",
    "    strides_conv_1 = [1, 1, 1, 1]\n",
    "    strides_pool_1 = [1, 2, 2, 1]\n",
    "    #the bias term is applied to each feature map\n",
    "    bias_layer_1 = bias_variable([6])\n",
    "    #we use SAME as padding because we want to keep the size of the original img 28x28,\n",
    "    #NOT 32x32 as expected\n",
    "    conv_layer_1 = tf.nn.conv2d(data, filters_conv_1, strides_conv_1, \"SAME\")\n",
    "    if activation=='relu':\n",
    "        hidden_layer_1 = tf.nn.relu(conv_layer_1 + bias_layer_1)\n",
    "    else:\n",
    "        hidden_layer_1 = tf.nn.sigmoid(conv_layer_1 + bias_layer_1)\n",
    "    pool_layer_1 = tf.nn.max_pool(hidden_layer_1, window_pool_1, strides_pool_1, \"VALID\")\n",
    "    \n",
    "    # --- end level 1 --- #\n",
    "    # --- level 2 --- #\n",
    "    filters_conv_2 = weight_variable([5, 5, 6, 16])\n",
    "    bias_layer_2 = bias_variable([16])\n",
    "    strides_conv_2 = [1, 1, 1, 1]\n",
    "    strides_pool_2 = [1, 2, 2, 1]\n",
    "    window_pool_2 = [1, 2, 2, 1]\n",
    "    strides_pool_2 = [1, 2, 2, 1]\n",
    "    \n",
    "    conv_layer_2 = tf.nn.conv2d(pool_layer_1, filters_conv_2, strides_conv_2, \"VALID\")\n",
    "    if activation=='relu':\n",
    "        hidden_layer_2 = tf.nn.relu(conv_layer_2 + bias_layer_2)\n",
    "    else:\n",
    "        hidden_layer_2 = tf.nn.sigmoid(conv_layer_2 + bias_layer_2)\n",
    "    pool_layer_2 = tf.nn.max_pool(hidden_layer_2, window_pool_2, strides_pool_2, \"VALID\")\n",
    "    flatten_l2 = tf.contrib.layers.flatten(pool_layer_2)\n",
    "    # --- end level 2 --- #\n",
    "\n",
    "    # --- level 3 --- #\n",
    "    l3_weights = weight_variable([16*5*5, 120])\n",
    "    l3_bias = bias_variable([120])\n",
    "    if activation=='relu':\n",
    "        hidden_layer_3 = tf.nn.relu(tf.matmul(flatten_l2, l3_weights) + l3_bias)\n",
    "    else:\n",
    "        hidden_layer_3 = tf.nn.sigmoid(tf.matmul(flatten_l2, l3_weights) + l3_bias)     \n",
    "    # --- end level 3 --- #\n",
    "    \n",
    "    # --- level 4 --- #\n",
    "    l4_weights = weight_variable([120,84])\n",
    "    l4_bias = bias_variable([84])\n",
    "    if activation=='relu':\n",
    "        hidden_layer_4 = tf.nn.relu(tf.matmul(hidden_layer_3, l4_weights) + l4_bias) \n",
    "    else:\n",
    "        hidden_layer_4 = tf.nn.sigmoid(tf.matmul(hidden_layer_3, l4_weights) + l4_bias) \n",
    "    # --- end level 4 --- #\n",
    "    \n",
    "    # --- level 5 --- #\n",
    "    l5_weights = weight_variable([84, 10])\n",
    "    l5_bias = bias_variable([10])\n",
    "    if dropout:\n",
    "        drop_layer = tf.nn.dropout(hidden_layer_4, keep_prob)\n",
    "        output = tf.nn.softmax(tf.matmul(drop_layer, l5_weights) + l5_bias)\n",
    "    else:\n",
    "        output = tf.nn.softmax(tf.matmul(hidden_layer_4, l5_weights) + l5_bias)\n",
    "    # output = tf.matmul(hidden_layer_4, l5_weights) + l5_bias\n",
    "    # --- end level 5 --- #\n",
    "    return output\n"
   ]
  },
  {
   "cell_type": "markdown",
   "metadata": {
    "deletable": true,
    "editable": true
   },
   "source": [
    "<b> Question 2.1.2. </b>  Calculate the number of parameters of this model "
   ]
  },
  {
   "cell_type": "code",
   "execution_count": 5,
   "metadata": {
    "collapsed": false,
    "deletable": true,
    "editable": true
   },
   "outputs": [
    {
     "name": "stdout",
     "output_type": "stream",
     "text": [
      "Total number of parameters : 59706\n"
     ]
    }
   ],
   "source": [
    "layer_1 = 6*5*5 + 6\n",
    "layer_2 = 16*5*5 + 16\n",
    "layer_3 = 16*5*5*120 + 120\n",
    "layer_4 = 120*84 + 84\n",
    "layer_5 = 84*10 + 10\n",
    "\n",
    "total = layer_1 + layer_2 + layer_3 + layer_4 + layer_5\n",
    "print(\"Total number of parameters : %d\" %total)"
   ]
  },
  {
   "cell_type": "markdown",
   "metadata": {
    "deletable": true,
    "editable": true
   },
   "source": [
    "<b> Question 2.1.3. </b>  Start the training with the parameters cited below:\n",
    "\n",
    "     Learning rate = 0.1\n",
    "     Loss function : Cross entropy\n",
    "     Optimisateur: SGD\n",
    "     Number of training iterations = 10000\n",
    "     The batch size = 128"
   ]
  },
  {
   "cell_type": "code",
   "execution_count": 20,
   "metadata": {
    "collapsed": true,
    "deletable": true,
    "editable": true,
    "scrolled": false
   },
   "outputs": [],
   "source": [
    "# Training parameters \n",
    "learning_rate = 0.1\n",
    "iterations = 100\n",
    "batch_size = 128\n",
    "logs_path = 'log_files_leNet5/'\n",
    "#Your implementation goes here\n",
    "# tf Graph Input:  mnist data image of shape 28*28=784\n",
    "x = tf.placeholder(tf.float32, [None, 28, 28, 1], name='InputData')\n",
    "# 0-9 digits recognition,  10 classes\n",
    "y = tf.placeholder(tf.float32, [None, 10], name='LabelData')\n",
    "\n",
    "# dropout\n",
    "keep_prob = tf.placeholder(tf.float32)"
   ]
  },
  {
   "cell_type": "markdown",
   "metadata": {
    "deletable": true,
    "editable": true
   },
   "source": [
    "<b> Question 2.1.4. </b>  Implement the evaluation function for accuracy computation "
   ]
  },
  {
   "cell_type": "code",
   "execution_count": 17,
   "metadata": {
    "collapsed": true,
    "deletable": true,
    "editable": true
   },
   "outputs": [],
   "source": [
    "def evaluate(model, y):\n",
    "    #your implementation goes here\n",
    "    correct_prediction = tf.equal(tf.argmax(model,1), tf.argmax(y,1))\n",
    "    accuracy = tf.reduce_mean(tf.cast(correct_prediction, tf.float32))\n",
    "    return accuracy"
   ]
  },
  {
   "cell_type": "markdown",
   "metadata": {
    "deletable": true,
    "editable": true
   },
   "source": [
    "<b> Question 2.1.5. </b>  Implement training pipeline and run the training data through it to train the model.\n",
    "\n",
    "- Before each epoch, shuffle the training set. \n",
    "- Print the loss per mini batch and the training/validation accuracy per epoch. (Display results every 100 epochs)\n",
    "- Save the model after training\n",
    "- Print after training the final testing accuracy \n",
    "\n"
   ]
  },
  {
   "cell_type": "code",
   "execution_count": 18,
   "metadata": {
    "collapsed": true,
    "deletable": true,
    "editable": true,
    "scrolled": false
   },
   "outputs": [],
   "source": [
    "# Initializing the variables\n",
    "def train(out_dir, optimizer='GradientDescent', display_step=1, activation='sigmoid'):\n",
    "    \n",
    "    # Initializing the session\n",
    "    optimizers = {'GradientDescent': tf.train.GradientDescentOptimizer,\n",
    "                 'AdamOptimizer': tf.train.AdamOptimizer}\n",
    "    \n",
    "    # Construct model and encapsulating all ops into scopes, making Tensorboard's Graph visualization more convenient\n",
    "    with tf.name_scope('Model'):\n",
    "    # Model\n",
    "        pred = LeNet5_Model(x, activation)\n",
    "    with tf.name_scope('Loss'):\n",
    "    # Minimize error using cross entropy\n",
    "        #cost = tf.reduce_mean(tf.nn.softmax_cross_entropy_with_logits(logits=pred, labels=y))\n",
    "        cost = tf.reduce_mean(-tf.reduce_sum(y*tf.log(pred), reduction_indices=1))\n",
    "    with tf.name_scope('SGD'):\n",
    "    # Gradient Descent\n",
    "        # optimizer = tf.train.GradientDescentOptimizer(learning_rate).minimize(cost)\n",
    "        optimizer = optimizers[optimizer](learning_rate).minimize(cost)\n",
    "    with tf.name_scope('Accuracy'):\n",
    "    # Accuracy\n",
    "        acc = evaluate(pred, y)\n",
    "    \n",
    "    \n",
    "    saver = tf.train.Saver()\n",
    "    # Initializing the variables\n",
    "    init = tf.global_variables_initializer()\n",
    "    # Create a summary to monitor cost tensor\n",
    "    tf.summary.scalar(\"Loss\", cost)\n",
    "    # Create a summary to monitor accuracy tensor\n",
    "    tf.summary.scalar(\"Accuracy\", acc)\n",
    "    # Merge all summaries into a single op\n",
    "    merged_summary_op = tf.summary.merge_all()\n",
    "\n",
    "    x_val, y_val = mnist.validation.images.reshape(-1, 28, 28, 1), mnist.validation.labels\n",
    "    \n",
    "    with tf.Session() as sess:\n",
    "        sess.run(init)\n",
    "        summary_writer = tf.summary.FileWriter(logs_path, graph=tf.get_default_graph())\n",
    "        print (\"Start Training!\")\n",
    "        for epoch in range(iterations):\n",
    "            avg_cost = 0.\n",
    "            num_batch = int(mnist.train.num_examples/batch_size)\n",
    "            for i in range(num_batch):\n",
    "                # shuffle = True is the default option, the shuffle is done at each epoch\n",
    "                batch_xs, batch_ys = mnist.train.next_batch(batch_size, shuffle=True)\n",
    "                batch_xs = batch_xs.reshape(-1, 28, 28, 1)\n",
    "\n",
    "                _, c, summary = sess.run([optimizer, cost, merged_summary_op],\n",
    "                                         feed_dict={x: batch_xs, y: batch_ys})\n",
    "                # Write logs at every iteration\n",
    "                summary_writer.add_summary(summary, epoch * num_batch + i)\n",
    "                avg_cost += c / num_batch\n",
    "                    \n",
    "            if (epoch+1) % display_step == 0:\n",
    "                accuracy = acc.eval({x: x_val, y: y_val})\n",
    "                print(\"Epoch: \", '%02d' % (epoch+1), \"  =====> Loss=\", \"{:.9f}\".format(avg_cost))\n",
    "                print(\"Epoch: \", '%02d' % (epoch+1), \"  =====> Validation accuracy=\", \n",
    "                                              \"{:.9f}\".format(accuracy))\n",
    "                \n",
    "                if accuracy > 0.99:\n",
    "                    print(\"[EPOCH {0}] Reached validation accuracy > 99% , stopping training\".format(epoch + 1))\n",
    "                    break\n",
    "\n",
    "        x_test = mnist.test.images.reshape(-1, 28, 28, 1)\n",
    "        y_test = mnist.test.labels\n",
    "        print(\"Accuracy:\", acc.eval({x: x_test, y: y_test}))\n",
    "        saver.save(sess, out_dir)\n",
    "    print(\"Optimization Finished!\")\n",
    "    print(\"Training Finished!\")\n",
    "    \n",
    "   #Your implementation for testing accuracy after training goes here"
   ]
  },
  {
   "cell_type": "code",
   "execution_count": null,
   "metadata": {
    "collapsed": false,
    "deletable": true,
    "editable": true
   },
   "outputs": [
    {
     "name": "stdout",
     "output_type": "stream",
     "text": [
      "Start Training!\n",
      "Epoch:  01   =====> Loss= 2.306220544\n",
      "Epoch:  01   =====> Validation accuracy= 0.112599999\n",
      "Epoch:  02   =====> Loss= 2.305765380\n",
      "Epoch:  02   =====> Validation accuracy= 0.112599999\n",
      "Epoch:  03   =====> Loss= 2.304829811\n",
      "Epoch:  03   =====> Validation accuracy= 0.109999999\n",
      "Epoch:  04   =====> Loss= 2.304256634\n",
      "Epoch:  04   =====> Validation accuracy= 0.097599998\n",
      "Epoch:  05   =====> Loss= 2.303919562\n",
      "Epoch:  05   =====> Validation accuracy= 0.112599999\n",
      "Epoch:  06   =====> Loss= 2.303605696\n",
      "Epoch:  06   =====> Validation accuracy= 0.098600000\n",
      "Epoch:  07   =====> Loss= 2.302925382\n",
      "Epoch:  07   =====> Validation accuracy= 0.183400005\n",
      "Epoch:  08   =====> Loss= 2.302268229\n",
      "Epoch:  08   =====> Validation accuracy= 0.097599998\n",
      "Epoch:  09   =====> Loss= 2.300304821\n",
      "Epoch:  09   =====> Validation accuracy= 0.095799997\n",
      "Epoch:  10   =====> Loss= 2.298719998\n",
      "Epoch:  10   =====> Validation accuracy= 0.097599998\n",
      "Epoch:  11   =====> Loss= 2.291144160\n",
      "Epoch:  11   =====> Validation accuracy= 0.115000002\n",
      "Epoch:  12   =====> Loss= 2.226271333\n",
      "Epoch:  12   =====> Validation accuracy= 0.277200013\n",
      "Epoch:  13   =====> Loss= 1.744757301\n",
      "Epoch:  13   =====> Validation accuracy= 0.563199997\n",
      "Epoch:  14   =====> Loss= 1.078477798\n",
      "Epoch:  14   =====> Validation accuracy= 0.773000002\n",
      "Epoch:  15   =====> Loss= 0.666857657\n",
      "Epoch:  15   =====> Validation accuracy= 0.842400014\n",
      "Epoch:  16   =====> Loss= 0.482939510\n",
      "Epoch:  16   =====> Validation accuracy= 0.885599971\n",
      "Epoch:  17   =====> Loss= 0.367552401\n",
      "Epoch:  17   =====> Validation accuracy= 0.910200000\n",
      "Epoch:  18   =====> Loss= 0.299098168\n",
      "Epoch:  18   =====> Validation accuracy= 0.929400027\n",
      "Epoch:  19   =====> Loss= 0.256227993\n",
      "Epoch:  19   =====> Validation accuracy= 0.937799990\n",
      "Epoch:  20   =====> Loss= 0.220164140\n",
      "Epoch:  20   =====> Validation accuracy= 0.947000027\n",
      "Epoch:  21   =====> Loss= 0.197801301\n",
      "Epoch:  21   =====> Validation accuracy= 0.951200008\n",
      "Epoch:  22   =====> Loss= 0.180219753\n",
      "Epoch:  22   =====> Validation accuracy= 0.955399990\n",
      "Epoch:  23   =====> Loss= 0.166407693\n",
      "Epoch:  23   =====> Validation accuracy= 0.958599985\n",
      "Epoch:  24   =====> Loss= 0.150442514\n",
      "Epoch:  24   =====> Validation accuracy= 0.961399972\n",
      "Epoch:  25   =====> Loss= 0.141168586\n",
      "Epoch:  25   =====> Validation accuracy= 0.963800013\n",
      "Epoch:  26   =====> Loss= 0.133696071\n",
      "Epoch:  26   =====> Validation accuracy= 0.966600001\n",
      "Epoch:  27   =====> Loss= 0.124113519\n",
      "Epoch:  27   =====> Validation accuracy= 0.967599988\n",
      "Epoch:  28   =====> Loss= 0.115745605\n",
      "Epoch:  28   =====> Validation accuracy= 0.970200002\n",
      "Epoch:  29   =====> Loss= 0.113322575\n",
      "Epoch:  29   =====> Validation accuracy= 0.973200023\n",
      "Epoch:  30   =====> Loss= 0.107090774\n",
      "Epoch:  30   =====> Validation accuracy= 0.973599970\n",
      "Epoch:  31   =====> Loss= 0.103853245\n",
      "Epoch:  31   =====> Validation accuracy= 0.974799991\n",
      "Epoch:  32   =====> Loss= 0.097332344\n",
      "Epoch:  32   =====> Validation accuracy= 0.974799991\n",
      "Epoch:  33   =====> Loss= 0.096059953\n",
      "Epoch:  33   =====> Validation accuracy= 0.975199997\n",
      "Epoch:  34   =====> Loss= 0.090814681\n",
      "Epoch:  34   =====> Validation accuracy= 0.976599991\n",
      "Epoch:  35   =====> Loss= 0.087953391\n",
      "Epoch:  35   =====> Validation accuracy= 0.975399971\n",
      "Epoch:  36   =====> Loss= 0.085866070\n",
      "Epoch:  36   =====> Validation accuracy= 0.977599978\n",
      "Epoch:  37   =====> Loss= 0.083579603\n",
      "Epoch:  37   =====> Validation accuracy= 0.974799991\n",
      "Epoch:  38   =====> Loss= 0.080132408\n",
      "Epoch:  38   =====> Validation accuracy= 0.978600025\n",
      "Epoch:  39   =====> Loss= 0.078289368\n",
      "Epoch:  39   =====> Validation accuracy= 0.977800012\n",
      "Epoch:  40   =====> Loss= 0.076198342\n",
      "Epoch:  40   =====> Validation accuracy= 0.979600012\n",
      "Epoch:  41   =====> Loss= 0.074365399\n",
      "Epoch:  41   =====> Validation accuracy= 0.979200006\n",
      "Epoch:  42   =====> Loss= 0.071527616\n",
      "Epoch:  42   =====> Validation accuracy= 0.978799999\n",
      "Epoch:  43   =====> Loss= 0.070670097\n",
      "Epoch:  43   =====> Validation accuracy= 0.980199993\n",
      "Epoch:  44   =====> Loss= 0.070367078\n",
      "Epoch:  44   =====> Validation accuracy= 0.978600025\n",
      "Epoch:  45   =====> Loss= 0.066972317\n",
      "Epoch:  45   =====> Validation accuracy= 0.981000006\n",
      "Epoch:  46   =====> Loss= 0.067229749\n",
      "Epoch:  46   =====> Validation accuracy= 0.980400026\n",
      "Epoch:  47   =====> Loss= 0.063354802\n",
      "Epoch:  47   =====> Validation accuracy= 0.980000019\n",
      "Epoch:  48   =====> Loss= 0.065269149\n",
      "Epoch:  48   =====> Validation accuracy= 0.980599999\n",
      "Epoch:  49   =====> Loss= 0.060185211\n",
      "Epoch:  49   =====> Validation accuracy= 0.982200027\n",
      "Epoch:  50   =====> Loss= 0.061864351\n",
      "Epoch:  50   =====> Validation accuracy= 0.981599987\n",
      "Epoch:  51   =====> Loss= 0.059371474\n",
      "Epoch:  51   =====> Validation accuracy= 0.983600020\n",
      "Epoch:  52   =====> Loss= 0.057844711\n",
      "Epoch:  52   =====> Validation accuracy= 0.981599987\n",
      "Epoch:  53   =====> Loss= 0.057644000\n",
      "Epoch:  53   =====> Validation accuracy= 0.982599974\n",
      "Epoch:  54   =====> Loss= 0.058815040\n",
      "Epoch:  54   =====> Validation accuracy= 0.983600020\n",
      "Epoch:  55   =====> Loss= 0.053702723\n",
      "Epoch:  55   =====> Validation accuracy= 0.982599974\n",
      "Epoch:  56   =====> Loss= 0.054988446\n",
      "Epoch:  56   =====> Validation accuracy= 0.983399987\n",
      "Epoch:  57   =====> Loss= 0.053886379\n",
      "Epoch:  57   =====> Validation accuracy= 0.982400000\n",
      "Epoch:  58   =====> Loss= 0.053985186\n",
      "Epoch:  58   =====> Validation accuracy= 0.983799994\n",
      "Epoch:  59   =====> Loss= 0.050431061\n",
      "Epoch:  59   =====> Validation accuracy= 0.983600020\n",
      "Epoch:  60   =====> Loss= 0.051445094\n",
      "Epoch:  60   =====> Validation accuracy= 0.984399974\n",
      "Epoch:  61   =====> Loss= 0.050845009\n",
      "Epoch:  61   =====> Validation accuracy= 0.984000027\n",
      "Epoch:  62   =====> Loss= 0.049181551\n",
      "Epoch:  62   =====> Validation accuracy= 0.984799981\n",
      "Epoch:  63   =====> Loss= 0.048076282\n",
      "Epoch:  63   =====> Validation accuracy= 0.984000027\n",
      "Epoch:  64   =====> Loss= 0.047540146\n",
      "Epoch:  64   =====> Validation accuracy= 0.985199988\n",
      "Epoch:  65   =====> Loss= 0.048447372\n",
      "Epoch:  65   =====> Validation accuracy= 0.984799981\n",
      "Epoch:  66   =====> Loss= 0.047151461\n",
      "Epoch:  66   =====> Validation accuracy= 0.983600020\n",
      "Epoch:  67   =====> Loss= 0.045446167\n",
      "Epoch:  67   =====> Validation accuracy= 0.984200001\n",
      "Epoch:  68   =====> Loss= 0.044895682\n",
      "Epoch:  68   =====> Validation accuracy= 0.983799994\n",
      "Epoch:  69   =====> Loss= 0.044063932\n",
      "Epoch:  69   =====> Validation accuracy= 0.985800028\n",
      "Epoch:  70   =====> Loss= 0.043881306\n",
      "Epoch:  70   =====> Validation accuracy= 0.982999980\n",
      "Epoch:  71   =====> Loss= 0.043319349\n",
      "Epoch:  71   =====> Validation accuracy= 0.985599995\n",
      "Epoch:  72   =====> Loss= 0.043049575\n",
      "Epoch:  72   =====> Validation accuracy= 0.985199988\n",
      "Epoch:  73   =====> Loss= 0.041092731\n",
      "Epoch:  73   =====> Validation accuracy= 0.986800015\n",
      "Epoch:  74   =====> Loss= 0.042121006\n",
      "Epoch:  74   =====> Validation accuracy= 0.985400021\n",
      "Epoch:  75   =====> Loss= 0.040263491\n",
      "Epoch:  75   =====> Validation accuracy= 0.987399995\n",
      "Epoch:  76   =====> Loss= 0.040221350\n",
      "Epoch:  76   =====> Validation accuracy= 0.986400008\n",
      "Epoch:  77   =====> Loss= 0.040009963\n",
      "Epoch:  77   =====> Validation accuracy= 0.986599982\n",
      "Epoch:  78   =====> Loss= 0.039411044\n",
      "Epoch:  78   =====> Validation accuracy= 0.986599982\n",
      "Epoch:  79   =====> Loss= 0.037972750\n",
      "Epoch:  79   =====> Validation accuracy= 0.987200022\n",
      "Epoch:  80   =====> Loss= 0.038369847\n",
      "Epoch:  80   =====> Validation accuracy= 0.986599982\n",
      "Epoch:  81   =====> Loss= 0.038069550\n",
      "Epoch:  81   =====> Validation accuracy= 0.986599982\n",
      "Epoch:  82   =====> Loss= 0.037454600\n",
      "Epoch:  82   =====> Validation accuracy= 0.985800028\n",
      "Epoch:  83   =====> Loss= 0.035237559\n",
      "Epoch:  83   =====> Validation accuracy= 0.986800015\n",
      "Epoch:  84   =====> Loss= 0.036122289\n",
      "Epoch:  84   =====> Validation accuracy= 0.986999989\n",
      "Epoch:  85   =====> Loss= 0.035977604\n",
      "Epoch:  85   =====> Validation accuracy= 0.986599982\n",
      "Epoch:  86   =====> Loss= 0.036177129\n",
      "Epoch:  86   =====> Validation accuracy= 0.986800015\n",
      "Epoch:  87   =====> Loss= 0.035121003\n",
      "Epoch:  87   =====> Validation accuracy= 0.986599982\n",
      "Epoch:  88   =====> Loss= 0.033153823\n",
      "Epoch:  88   =====> Validation accuracy= 0.987200022\n",
      "Epoch:  89   =====> Loss= 0.035195530\n",
      "Epoch:  89   =====> Validation accuracy= 0.986999989\n",
      "Epoch:  90   =====> Loss= 0.033440895\n",
      "Epoch:  90   =====> Validation accuracy= 0.986999989\n",
      "Epoch:  91   =====> Loss= 0.033576028\n",
      "Epoch:  91   =====> Validation accuracy= 0.986400008\n",
      "Epoch:  92   =====> Loss= 0.032602030\n",
      "Epoch:  92   =====> Validation accuracy= 0.986800015\n",
      "Epoch:  93   =====> Loss= 0.032682947\n",
      "Epoch:  93   =====> Validation accuracy= 0.986400008\n",
      "Epoch:  94   =====> Loss= 0.031734167\n",
      "Epoch:  94   =====> Validation accuracy= 0.987200022\n",
      "Epoch:  95   =====> Loss= 0.031197720\n",
      "Epoch:  95   =====> Validation accuracy= 0.986800015\n",
      "Epoch:  96   =====> Loss= 0.031221257\n",
      "Epoch:  96   =====> Validation accuracy= 0.986800015\n",
      "Epoch:  97   =====> Loss= 0.030112738\n",
      "Epoch:  97   =====> Validation accuracy= 0.986999989\n",
      "Epoch:  98   =====> Loss= 0.031013121\n",
      "Epoch:  98   =====> Validation accuracy= 0.987200022\n",
      "Epoch:  99   =====> Loss= 0.030495853\n",
      "Epoch:  99   =====> Validation accuracy= 0.986999989\n",
      "Epoch:  100   =====> Loss= 0.029740665\n",
      "Epoch:  100   =====> Validation accuracy= 0.987399995\n",
      "Accuracy: 0.9871\n",
      "Optimization Finished!\n",
      "Training Finished!\n"
     ]
    }
   ],
   "source": [
    "# trainining with first configuration\n",
    "train('./models/lenet5_sgd')"
   ]
  },
  {
   "cell_type": "code",
   "execution_count": null,
   "metadata": {
    "collapsed": true,
    "deletable": true,
    "editable": true
   },
   "outputs": [],
   "source": [
    "# training with AdamOptimizer\n",
    "train('./models/lenet5_adam_relu', optimizer='AdamOptimizer', activation='relu')"
   ]
  },
  {
   "cell_type": "markdown",
   "metadata": {
    "deletable": true,
    "editable": true
   },
   "source": [
    "<b> Question 2.1.6 </b> : Use tensorBoard to visualise and save the LeNet5 Graph and all learning curves. \n",
    "Save all obtained figures in the folder **\"TP2/MNIST_99_Challenge_Figures\"**"
   ]
  },
  {
   "cell_type": "code",
   "execution_count": null,
   "metadata": {
    "collapsed": true,
    "deletable": true,
    "editable": true
   },
   "outputs": [],
   "source": [
    "#  insert your obtained figure here "
   ]
  },
  {
   "cell_type": "code",
   "execution_count": null,
   "metadata": {
    "collapsed": true,
    "deletable": true,
    "editable": true
   },
   "outputs": [],
   "source": [
    "# your answer goes here"
   ]
  },
  {
   "cell_type": "markdown",
   "metadata": {
    "deletable": true,
    "editable": true
   },
   "source": [
    "<b> Part 2 </b> : LeNET 5 Optimization"
   ]
  },
  {
   "cell_type": "markdown",
   "metadata": {
    "deletable": true,
    "editable": true
   },
   "source": [
    "\n",
    "<b> Question 2.2.1 </b>  Change the sigmoid function with a Relu :\n",
    "\n",
    "- Retrain your network with SGD and AdamOptimizer and then fill the table above  :\n",
    "\n",
    "\n",
    "| Optimizer            |  Gradient Descent         |AdamOptimizer |\n",
    "| -------------        |: -------------: | ---------:   \n",
    "| Validation Accuracy  |         |    |      \n",
    "| Testing Accuracy     |           |    |       \n",
    "| Training Time        |           |        |  |  \n",
    "\n",
    "\n",
    "- Try with different learning rates for each Optimizer (0.0001 and 0.001 ) and different Batch sizes (50 and 128) for 20000 Epochs. \n",
    "\n",
    "- For each optimizer, plot (on the same curve) the **testing accuracies** function to **(learning rate, batch size)** \n",
    "\n",
    "\n",
    "\n",
    "- Did you reach the 99% accuracy ? What are the optimal parametres that gave you the best results? \n",
    "\n",
    "\n",
    "\n",
    "\n",
    "\n",
    "\n"
   ]
  },
  {
   "cell_type": "code",
   "execution_count": null,
   "metadata": {
    "collapsed": false,
    "deletable": true,
    "editable": true
   },
   "outputs": [
    {
     "name": "stdout",
     "output_type": "stream",
     "text": [
      "Learning rate: 0.0001\n",
      "Batch size: 50\n",
      "Start Training!\n",
      "Epoch:  01   =====> Loss= 2.324329930\n",
      "Epoch:  01   =====> Validation accuracy= 0.130400002\n",
      "Epoch:  02   =====> Loss= 2.308605538\n",
      "Epoch:  02   =====> Validation accuracy= 0.155800000\n",
      "Epoch:  03   =====> Loss= 2.297603052\n",
      "Epoch:  03   =====> Validation accuracy= 0.178599998\n",
      "Epoch:  04   =====> Loss= 2.288610613\n",
      "Epoch:  04   =====> Validation accuracy= 0.190200001\n",
      "Epoch:  05   =====> Loss= 2.280258192\n",
      "Epoch:  05   =====> Validation accuracy= 0.206599995\n",
      "Epoch:  06   =====> Loss= 2.271804899\n",
      "Epoch:  06   =====> Validation accuracy= 0.224399999\n",
      "Epoch:  07   =====> Loss= 2.262851090\n",
      "Epoch:  07   =====> Validation accuracy= 0.246600002\n",
      "Epoch:  08   =====> Loss= 2.253006443\n",
      "Epoch:  08   =====> Validation accuracy= 0.273000002\n",
      "Epoch:  09   =====> Loss= 2.241876211\n",
      "Epoch:  09   =====> Validation accuracy= 0.312999994\n",
      "Epoch:  10   =====> Loss= 2.228999188\n",
      "Epoch:  10   =====> Validation accuracy= 0.356200010\n",
      "Epoch:  11   =====> Loss= 2.213786695\n",
      "Epoch:  11   =====> Validation accuracy= 0.391000003\n",
      "Epoch:  12   =====> Loss= 2.195394251\n",
      "Epoch:  12   =====> Validation accuracy= 0.416000009\n",
      "Epoch:  13   =====> Loss= 2.172596242\n",
      "Epoch:  13   =====> Validation accuracy= 0.437400013\n",
      "Epoch:  14   =====> Loss= 2.143800696\n",
      "Epoch:  14   =====> Validation accuracy= 0.452600002\n",
      "Epoch:  15   =====> Loss= 2.107099266\n",
      "Epoch:  15   =====> Validation accuracy= 0.470999986\n",
      "Epoch:  16   =====> Loss= 2.060033204\n",
      "Epoch:  16   =====> Validation accuracy= 0.490999997\n",
      "Epoch:  17   =====> Loss= 1.999478934\n",
      "Epoch:  17   =====> Validation accuracy= 0.510800004\n",
      "Epoch:  18   =====> Loss= 1.921895445\n",
      "Epoch:  18   =====> Validation accuracy= 0.534399986\n",
      "Epoch:  19   =====> Loss= 1.823872695\n",
      "Epoch:  19   =====> Validation accuracy= 0.564999998\n",
      "Epoch:  20   =====> Loss= 1.703788178\n",
      "Epoch:  20   =====> Validation accuracy= 0.599600017\n",
      "Epoch:  21   =====> Loss= 1.563686328\n",
      "Epoch:  21   =====> Validation accuracy= 0.644200027\n",
      "Epoch:  22   =====> Loss= 1.412086199\n",
      "Epoch:  22   =====> Validation accuracy= 0.677200019\n",
      "Epoch:  23   =====> Loss= 1.262054524\n",
      "Epoch:  23   =====> Validation accuracy= 0.707000017\n",
      "Epoch:  24   =====> Loss= 1.124286676\n",
      "Epoch:  24   =====> Validation accuracy= 0.739600003\n",
      "Epoch:  25   =====> Loss= 1.004784401\n",
      "Epoch:  25   =====> Validation accuracy= 0.759599984\n",
      "Epoch:  26   =====> Loss= 0.904806900\n",
      "Epoch:  26   =====> Validation accuracy= 0.779600024\n",
      "Epoch:  27   =====> Loss= 0.822923423\n",
      "Epoch:  27   =====> Validation accuracy= 0.796999991\n",
      "Epoch:  28   =====> Loss= 0.756414918\n",
      "Epoch:  28   =====> Validation accuracy= 0.808799982\n",
      "Epoch:  29   =====> Loss= 0.702281408\n",
      "Epoch:  29   =====> Validation accuracy= 0.818000019\n",
      "Epoch:  30   =====> Loss= 0.658020586\n",
      "Epoch:  30   =====> Validation accuracy= 0.826600015\n",
      "Epoch:  31   =====> Loss= 0.621223476\n",
      "Epoch:  31   =====> Validation accuracy= 0.834999979\n",
      "Epoch:  32   =====> Loss= 0.590497317\n",
      "Epoch:  32   =====> Validation accuracy= 0.842599988\n",
      "Epoch:  33   =====> Loss= 0.564609569\n",
      "Epoch:  33   =====> Validation accuracy= 0.848999977\n",
      "Epoch:  34   =====> Loss= 0.542344029\n",
      "Epoch:  34   =====> Validation accuracy= 0.853999972\n",
      "Epoch:  35   =====> Loss= 0.523129912\n",
      "Epoch:  35   =====> Validation accuracy= 0.857200027\n",
      "Epoch:  36   =====> Loss= 0.506295057\n",
      "Epoch:  36   =====> Validation accuracy= 0.861400008\n",
      "Epoch:  37   =====> Loss= 0.491438567\n",
      "Epoch:  37   =====> Validation accuracy= 0.864799976\n",
      "Epoch:  38   =====> Loss= 0.478077831\n",
      "Epoch:  38   =====> Validation accuracy= 0.868399978\n",
      "Epoch:  39   =====> Loss= 0.466040089\n",
      "Epoch:  39   =====> Validation accuracy= 0.871599972\n",
      "Epoch:  40   =====> Loss= 0.454992484\n",
      "Epoch:  40   =====> Validation accuracy= 0.875199974\n",
      "Epoch:  41   =====> Loss= 0.444935786\n",
      "Epoch:  41   =====> Validation accuracy= 0.878199995\n",
      "Epoch:  42   =====> Loss= 0.435653970\n",
      "Epoch:  42   =====> Validation accuracy= 0.881799996\n",
      "Epoch:  43   =====> Loss= 0.427222850\n",
      "Epoch:  43   =====> Validation accuracy= 0.884199977\n",
      "Epoch:  44   =====> Loss= 0.419171525\n",
      "Epoch:  44   =====> Validation accuracy= 0.885800004\n",
      "Epoch:  45   =====> Loss= 0.411825448\n",
      "Epoch:  45   =====> Validation accuracy= 0.887399971\n",
      "Epoch:  46   =====> Loss= 0.404637236\n",
      "Epoch:  46   =====> Validation accuracy= 0.889599979\n",
      "Epoch:  47   =====> Loss= 0.397980519\n",
      "Epoch:  47   =====> Validation accuracy= 0.890399992\n",
      "Epoch:  48   =====> Loss= 0.391606307\n",
      "Epoch:  48   =====> Validation accuracy= 0.892000020\n",
      "Epoch:  49   =====> Loss= 0.385744560\n",
      "Epoch:  49   =====> Validation accuracy= 0.894400001\n",
      "Epoch:  50   =====> Loss= 0.379922105\n",
      "Epoch:  50   =====> Validation accuracy= 0.895600021\n",
      "Epoch:  51   =====> Loss= 0.374546299\n",
      "Epoch:  51   =====> Validation accuracy= 0.899200022\n",
      "Epoch:  52   =====> Loss= 0.369250639\n",
      "Epoch:  52   =====> Validation accuracy= 0.900200009\n",
      "Epoch:  53   =====> Loss= 0.364290048\n",
      "Epoch:  53   =====> Validation accuracy= 0.902199984\n",
      "Epoch:  54   =====> Loss= 0.359583727\n",
      "Epoch:  54   =====> Validation accuracy= 0.902400017\n",
      "Epoch:  55   =====> Loss= 0.355026030\n",
      "Epoch:  55   =====> Validation accuracy= 0.904799998\n",
      "Epoch:  56   =====> Loss= 0.350573830\n",
      "Epoch:  56   =====> Validation accuracy= 0.905600011\n",
      "Epoch:  57   =====> Loss= 0.346498375\n",
      "Epoch:  57   =====> Validation accuracy= 0.906000018\n",
      "Epoch:  58   =====> Loss= 0.342347214\n",
      "Epoch:  58   =====> Validation accuracy= 0.906199992\n",
      "Epoch:  59   =====> Loss= 0.338347385\n",
      "Epoch:  59   =====> Validation accuracy= 0.907800019\n",
      "Epoch:  60   =====> Loss= 0.334681572\n",
      "Epoch:  60   =====> Validation accuracy= 0.907999992\n",
      "Epoch:  61   =====> Loss= 0.330980587\n",
      "Epoch:  61   =====> Validation accuracy= 0.908399999\n",
      "Epoch:  62   =====> Loss= 0.327327408\n",
      "Epoch:  62   =====> Validation accuracy= 0.910200000\n",
      "Epoch:  63   =====> Loss= 0.324143970\n",
      "Epoch:  63   =====> Validation accuracy= 0.910000026\n",
      "Epoch:  64   =====> Loss= 0.320689703\n",
      "Epoch:  64   =====> Validation accuracy= 0.911599994\n",
      "Epoch:  65   =====> Loss= 0.317519167\n",
      "Epoch:  65   =====> Validation accuracy= 0.912000000\n",
      "Epoch:  66   =====> Loss= 0.314397437\n",
      "Epoch:  66   =====> Validation accuracy= 0.912000000\n",
      "Epoch:  67   =====> Loss= 0.311353018\n",
      "Epoch:  67   =====> Validation accuracy= 0.913999975\n",
      "Epoch:  68   =====> Loss= 0.308370145\n",
      "Epoch:  68   =====> Validation accuracy= 0.916999996\n",
      "Epoch:  69   =====> Loss= 0.305372791\n",
      "Epoch:  69   =====> Validation accuracy= 0.915000021\n",
      "Epoch:  70   =====> Loss= 0.302585396\n",
      "Epoch:  70   =====> Validation accuracy= 0.914399981\n",
      "Epoch:  71   =====> Loss= 0.299813679\n",
      "Epoch:  71   =====> Validation accuracy= 0.916000009\n",
      "Epoch:  72   =====> Loss= 0.297307006\n",
      "Epoch:  72   =====> Validation accuracy= 0.916999996\n",
      "Epoch:  73   =====> Loss= 0.294624511\n",
      "Epoch:  73   =====> Validation accuracy= 0.916999996\n",
      "Epoch:  74   =====> Loss= 0.292154442\n",
      "Epoch:  74   =====> Validation accuracy= 0.918399990\n",
      "Epoch:  75   =====> Loss= 0.289620823\n",
      "Epoch:  75   =====> Validation accuracy= 0.918600023\n",
      "Epoch:  76   =====> Loss= 0.287177890\n",
      "Epoch:  76   =====> Validation accuracy= 0.920599997\n",
      "Epoch:  77   =====> Loss= 0.284917861\n",
      "Epoch:  77   =====> Validation accuracy= 0.920199990\n",
      "Epoch:  78   =====> Loss= 0.282442355\n",
      "Epoch:  78   =====> Validation accuracy= 0.921599984\n",
      "Epoch:  79   =====> Loss= 0.280191296\n",
      "Epoch:  79   =====> Validation accuracy= 0.921400011\n",
      "Epoch:  80   =====> Loss= 0.278047177\n",
      "Epoch:  80   =====> Validation accuracy= 0.922599971\n",
      "Epoch:  81   =====> Loss= 0.275848861\n",
      "Epoch:  81   =====> Validation accuracy= 0.922599971\n",
      "Epoch:  82   =====> Loss= 0.273559986\n",
      "Epoch:  82   =====> Validation accuracy= 0.923600018\n",
      "Epoch:  83   =====> Loss= 0.271573475\n",
      "Epoch:  83   =====> Validation accuracy= 0.922800004\n",
      "Epoch:  84   =====> Loss= 0.269559360\n",
      "Epoch:  84   =====> Validation accuracy= 0.925199986\n",
      "Epoch:  85   =====> Loss= 0.267532734\n",
      "Epoch:  85   =====> Validation accuracy= 0.924799979\n",
      "Epoch:  86   =====> Loss= 0.265470896\n",
      "Epoch:  86   =====> Validation accuracy= 0.924600005\n",
      "Epoch:  87   =====> Loss= 0.263493710\n",
      "Epoch:  87   =====> Validation accuracy= 0.925800025\n",
      "Epoch:  88   =====> Loss= 0.261613912\n",
      "Epoch:  88   =====> Validation accuracy= 0.926199973\n"
     ]
    }
   ],
   "source": [
    "# your answer goes here\n",
    "iterations = 100\n",
    "for lr in [0.0001, 0.001]:\n",
    "    learning_rate = lr\n",
    "    print('Learning rate:', lr)\n",
    "    for bs in [50, 128]:\n",
    "        batch_size = bs\n",
    "        print('Batch size:', bs)\n",
    "        train('./models/lenet5_sgd_relu_' + str(bs) + '_' + str(lr), activation='relu')\n",
    "        train('./models/lenet5_adam_relu_' + str(bs) + '_' + str(lr), optimizer='AdamOptimizer', activation='relu')"
   ]
  },
  {
   "cell_type": "code",
   "execution_count": null,
   "metadata": {
    "collapsed": true,
    "deletable": true,
    "editable": true
   },
   "outputs": [],
   "source": [
    "import numpy as np\n",
    "import matplotlib.pyplot as plt\n",
    "\n",
    "# evenly sampled time at 200ms intervals\n",
    "x = []\n",
    "t_sgd\n",
    "t_adam\n",
    "\n",
    "# red dashes, blue squares and green triangles\n",
    "plt.plot(t, t, 'r--', t, t**2, 'bs', t, t**3, 'g^')\n",
    "plt.show()"
   ]
  },
  {
   "cell_type": "markdown",
   "metadata": {
    "deletable": true,
    "editable": true
   },
   "source": [
    "<b> Question 2.2.2 </b>  What about applying a dropout layer on the Fully conntected layer and then retraining the model with the best Optimizer and parameters(Learning rate and Batsh size) obtained in *Question 2.2.1*  ? (probability to keep units=0.75). For this stage ensure that the keep prob is set to 1.0 to evaluate the \n",
    "performance of the network including all nodes."
   ]
  },
  {
   "cell_type": "code",
   "execution_count": null,
   "metadata": {
    "collapsed": true,
    "deletable": true,
    "editable": true
   },
   "outputs": [],
   "source": [
    "# your implementaion goes here"
   ]
  },
  {
   "cell_type": "code",
   "execution_count": null,
   "metadata": {
    "collapsed": true,
    "deletable": true,
    "editable": true
   },
   "outputs": [],
   "source": [
    "#Your comments go here"
   ]
  }
 ],
 "metadata": {
  "anaconda-cloud": {},
  "kernelspec": {
   "display_name": "Python 3",
   "language": "python",
   "name": "python3"
  },
  "language_info": {
   "codemirror_mode": {
    "name": "ipython",
    "version": 3
   },
   "file_extension": ".py",
   "mimetype": "text/x-python",
   "name": "python",
   "nbconvert_exporter": "python",
   "pygments_lexer": "ipython3",
   "version": "3.5.1"
  },
  "widgets": {
   "state": {},
   "version": "1.1.2"
  }
 },
 "nbformat": 4,
 "nbformat_minor": 1
}
